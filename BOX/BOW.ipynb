{
 "cells": [
  {
   "cell_type": "markdown",
   "id": "cd15483f",
   "metadata": {},
   "source": [
    "# bag of words (kelime çantası modeli)"
   ]
  },
  {
   "attachments": {
    "1_j3HUg18QwjDJTJwW9ja5-Q.png": {
     "image/png": "[encoded data removed]"
    }
   },
   "cell_type": "markdown",
   "id": "62720ba2",
   "metadata": {},
   "source": [
    "![1_j3HUg18QwjDJTJwW9ja5-Q.png](attachment:1_j3HUg18QwjDJTJwW9ja5-Q.png)"
   ]
  },
  {
   "cell_type": "raw",
   "id": "c46622c8",
   "metadata": {},
   "source": [
    "- Bu yöntem, bir belgedeki kelime sıklıklarını veya kelime öbeklerini temsil etmek için kullanılır.Bu yöntemde, bir metni oluşturan kelimelerin sırası göz ardı edilir ve metin, içerdiği kelimelerin sayısına dayalı olarak temsil edilir.\n",
    "\n",
    "Kelime Dağarcığı Oluşturma:\n",
    "- Belge koleksiyonundaki tüm kelimelerden oluşan bir kelime dağarcığı oluşturulur.\n",
    "Belge Temsili:\n",
    "- Her belge, kelime dağarcığındaki her kelimenin ne kadar sıklıkta geçtiğini gösteren bir vektörle temsil edilir. Bu vektörler, genellikle sıklıkları içerir, yani bir belgedeki her kelimenin kaç kez geçtiği bilgisini taşır.\n",
    "\n",
    "Bu yöntem, belgeler arasındaki benzerlikleri ölçmek, belgeleri sınıflandırmak veya kümeler oluşturmak gibi uygulamalarda kullanılır. "
   ]
  },
  {
   "cell_type": "raw",
   "id": "3b55277c",
   "metadata": {},
   "source": [
    "daha çok keyime sayımı ile anlamı bulmak için kullanılıyor. Cümlenin vektörü oluşturuluyor. kelime haznesine bakılır.\n",
    "Bir belgede bulunan her kelimenin sayısını bularak analız etme.\n",
    "Kelime çantasında kaç kelime varsa her cümlenin vektörü o kadar boyutta olacaktır. "
   ]
  },
  {
   "cell_type": "raw",
   "id": "3fccce9e",
   "metadata": {},
   "source": [
    "\"Sparse representation\" (seyrek temsil), bir veri setindeki çoğu elemanın sıfır veya çok küçük bir değere sahip olduğu durumdur.BOW de bu durum gerçekleşecektir. Çok fazla bellek alanı kullanımına neden olur.\n",
    "Eş anlamlı kelimeleri tam ifade edemez."
   ]
  },
  {
   "cell_type": "raw",
   "id": "90c39a14",
   "metadata": {},
   "source": [
    "Raw text -> number vector -> machine learning"
   ]
  },
  {
   "cell_type": "code",
   "execution_count": 5,
   "id": "a8b7685a",
   "metadata": {},
   "outputs": [],
   "source": [
    "from sklearn.feature_extraction.text import CountVectorizer"
   ]
  },
  {
   "cell_type": "raw",
   "id": "54646804",
   "metadata": {},
   "source": [
    "CountVectorizer, Scikit-Learn kütüphanesinde bulunan bir sınıftır ve metin verilerini temsil etmek üzere \"Bag of Words\" modelini uygulayan bir vektörleştirici (vectorizer) aracıdır. Bu sınıf, metin belgelerini alır ve bu belgeleri içeren kelimelerin sıklıklarını içeren bir sayı matrisine dönüştürür."
   ]
  },
  {
   "cell_type": "code",
   "execution_count": 6,
   "id": "b00d8f99",
   "metadata": {},
   "outputs": [],
   "source": [
    "emails = [\n",
    "    'Merhaba, bu bir örnek e-postadır. Umarım iyisindir.',\n",
    "    'Eğitimle ilgili daha fazla bilgi almak istiyorsan bize ulaş!',\n",
    "    'Örnek e-posta örnek bir konu hakkında.',\n",
    "    'Bugün öğle yemeğine gidelim mi?'\n",
    "]"
   ]
  },
  {
   "cell_type": "code",
   "execution_count": 7,
   "id": "64d789b4",
   "metadata": {},
   "outputs": [],
   "source": [
    "#CountVectorizer oluşturma\n",
    "vectorizer = CountVectorizer()"
   ]
  },
  {
   "cell_type": "code",
   "execution_count": 8,
   "id": "805e4c6e",
   "metadata": {},
   "outputs": [],
   "source": [
    "# Metin verilerini kullanarak kelime dağarcığı oluşturma ve belge temsili yapma\n",
    "X = vectorizer.fit_transform(emails)"
   ]
  },
  {
   "cell_type": "code",
   "execution_count": 9,
   "id": "0f52a1ae",
   "metadata": {},
   "outputs": [
    {
     "name": "stdout",
     "output_type": "stream",
     "text": [
      "\n",
      "Kelime Dağarcığı:\n",
      "['almak' 'bilgi' 'bir' 'bize' 'bu' 'bugün' 'daha' 'eğitimle' 'fazla'\n",
      " 'gidelim' 'hakkında' 'ilgili' 'istiyorsan' 'iyisindir' 'konu' 'merhaba'\n",
      " 'mi' 'posta' 'postadır' 'ulaş' 'umarım' 'yemeğine' 'örnek' 'öğle']\n"
     ]
    }
   ],
   "source": [
    "# Kelime dağarcığını gösterme\n",
    "print(\"\\nKelime Dağarcığı:\")\n",
    "print(vectorizer.get_feature_names_out())"
   ]
  },
  {
   "cell_type": "code",
   "execution_count": 10,
   "id": "47ea2a73",
   "metadata": {},
   "outputs": [
    {
     "name": "stdout",
     "output_type": "stream",
     "text": [
      "Sayı Matrisi:\n",
      "[[0 0 1 0 1 0 0 0 0 0 0 0 0 1 0 1 0 0 1 0 1 0 1 0]\n",
      " [1 1 0 1 0 0 1 1 1 0 0 1 1 0 0 0 0 0 0 1 0 0 0 0]\n",
      " [0 0 1 0 0 0 0 0 0 0 1 0 0 0 1 0 0 1 0 0 0 0 2 0]\n",
      " [0 0 0 0 0 1 0 0 0 1 0 0 0 0 0 0 1 0 0 0 0 1 0 1]]\n"
     ]
    }
   ],
   "source": [
    "# Elde edilen sayı matrisini gösterme\n",
    "print(\"Sayı Matrisi:\")\n",
    "print(X.toarray())"
   ]
  },
  {
   "cell_type": "markdown",
   "id": "d1781c28",
   "metadata": {},
   "source": [
    "# --BOW kullanarak spam tespiti yapma"
   ]
  },
  {
   "cell_type": "code",
   "execution_count": 11,
   "id": "c7f09cc4",
   "metadata": {},
   "outputs": [],
   "source": [
    "import pandas as pd\n",
    "import numpy as np"
   ]
  },
  {
   "cell_type": "code",
   "execution_count": 15,
   "id": "b2e87cef",
   "metadata": {},
   "outputs": [
    {
     "data": {
      "text/html": [
       "<div>\n",
       "<style scoped>\n",
       "    .dataframe tbody tr th:only-of-type {\n",
       "        vertical-align: middle;\n",
       "    }\n",
       "\n",
       "    .dataframe tbody tr th {\n",
       "        vertical-align: top;\n",
       "    }\n",
       "\n",
       "    .dataframe thead th {\n",
       "        text-align: right;\n",
       "    }\n",
       "</style>\n",
       "<table border=\"1\" class=\"dataframe\">\n",
       "  <thead>\n",
       "    <tr style=\"text-align: right;\">\n",
       "      <th></th>\n",
       "      <th>Category</th>\n",
       "      <th>Message</th>\n",
       "    </tr>\n",
       "  </thead>\n",
       "  <tbody>\n",
       "    <tr>\n",
       "      <th>0</th>\n",
       "      <td>ham</td>\n",
       "      <td>Go until jurong point, crazy.. Available only ...</td>\n",
       "    </tr>\n",
       "    <tr>\n",
       "      <th>1</th>\n",
       "      <td>ham</td>\n",
       "      <td>Ok lar... Joking wif u oni...</td>\n",
       "    </tr>\n",
       "    <tr>\n",
       "      <th>2</th>\n",
       "      <td>spam</td>\n",
       "      <td>Free entry in 2 a wkly comp to win FA Cup fina...</td>\n",
       "    </tr>\n",
       "    <tr>\n",
       "      <th>3</th>\n",
       "      <td>ham</td>\n",
       "      <td>U dun say so early hor... U c already then say...</td>\n",
       "    </tr>\n",
       "    <tr>\n",
       "      <th>4</th>\n",
       "      <td>ham</td>\n",
       "      <td>Nah I don't think he goes to usf, he lives aro...</td>\n",
       "    </tr>\n",
       "  </tbody>\n",
       "</table>\n",
       "</div>"
      ],
      "text/plain": [
       "  Category                                            Message\n",
       "0      ham  Go until jurong point, crazy.. Available only ...\n",
       "1      ham                      Ok lar... Joking wif u oni...\n",
       "2     spam  Free entry in 2 a wkly comp to win FA Cup fina...\n",
       "3      ham  U dun say so early hor... U c already then say...\n",
       "4      ham  Nah I don't think he goes to usf, he lives aro..."
      ]
     },
     "execution_count": 15,
     "metadata": {},
     "output_type": "execute_result"
    }
   ],
   "source": [
    "df = pd.read_csv(\"spam.csv\")\n",
    "df.head()"
   ]
  },
  {
   "cell_type": "code",
   "execution_count": 16,
   "id": "6b677be9",
   "metadata": {},
   "outputs": [
    {
     "data": {
      "text/plain": [
       "Category\n",
       "ham     4825\n",
       "spam     747\n",
       "Name: count, dtype: int64"
      ]
     },
     "execution_count": 16,
     "metadata": {},
     "output_type": "execute_result"
    }
   ],
   "source": [
    "# ham ve spam kaç kez tekrar etmiş onu gösterir.\n",
    "df.Category.value_counts()"
   ]
  },
  {
   "cell_type": "code",
   "execution_count": 17,
   "id": "131b28cf",
   "metadata": {},
   "outputs": [
    {
     "data": {
      "text/plain": [
       "(5572, 2)"
      ]
     },
     "execution_count": 17,
     "metadata": {},
     "output_type": "execute_result"
    }
   ],
   "source": [
    "#DataFrame'inin boyutunu (satır ve sütun sayısını) döndürür\n",
    "df.shape"
   ]
  },
  {
   "cell_type": "code",
   "execution_count": 18,
   "id": "2307fc45",
   "metadata": {},
   "outputs": [],
   "source": [
    "def get_spam_number(x):\n",
    "    if x=='spam':\n",
    "        return 1\n",
    "    return 0"
   ]
  },
  {
   "cell_type": "code",
   "execution_count": 19,
   "id": "97532a05",
   "metadata": {},
   "outputs": [],
   "source": [
    "#category sutununa bakarak yeni bir sutun oluşturacak spam adında\n",
    "df['spam'] = df['Category'].apply(get_spam_number)"
   ]
  },
  {
   "cell_type": "code",
   "execution_count": 20,
   "id": "a556771f",
   "metadata": {},
   "outputs": [
    {
     "data": {
      "text/html": [
       "<div>\n",
       "<style scoped>\n",
       "    .dataframe tbody tr th:only-of-type {\n",
       "        vertical-align: middle;\n",
       "    }\n",
       "\n",
       "    .dataframe tbody tr th {\n",
       "        vertical-align: top;\n",
       "    }\n",
       "\n",
       "    .dataframe thead th {\n",
       "        text-align: right;\n",
       "    }\n",
       "</style>\n",
       "<table border=\"1\" class=\"dataframe\">\n",
       "  <thead>\n",
       "    <tr style=\"text-align: right;\">\n",
       "      <th></th>\n",
       "      <th>Category</th>\n",
       "      <th>Message</th>\n",
       "      <th>spam</th>\n",
       "    </tr>\n",
       "  </thead>\n",
       "  <tbody>\n",
       "    <tr>\n",
       "      <th>0</th>\n",
       "      <td>ham</td>\n",
       "      <td>Go until jurong point, crazy.. Available only ...</td>\n",
       "      <td>0</td>\n",
       "    </tr>\n",
       "    <tr>\n",
       "      <th>1</th>\n",
       "      <td>ham</td>\n",
       "      <td>Ok lar... Joking wif u oni...</td>\n",
       "      <td>0</td>\n",
       "    </tr>\n",
       "    <tr>\n",
       "      <th>2</th>\n",
       "      <td>spam</td>\n",
       "      <td>Free entry in 2 a wkly comp to win FA Cup fina...</td>\n",
       "      <td>1</td>\n",
       "    </tr>\n",
       "    <tr>\n",
       "      <th>3</th>\n",
       "      <td>ham</td>\n",
       "      <td>U dun say so early hor... U c already then say...</td>\n",
       "      <td>0</td>\n",
       "    </tr>\n",
       "    <tr>\n",
       "      <th>4</th>\n",
       "      <td>ham</td>\n",
       "      <td>Nah I don't think he goes to usf, he lives aro...</td>\n",
       "      <td>0</td>\n",
       "    </tr>\n",
       "  </tbody>\n",
       "</table>\n",
       "</div>"
      ],
      "text/plain": [
       "  Category                                            Message  spam\n",
       "0      ham  Go until jurong point, crazy.. Available only ...     0\n",
       "1      ham                      Ok lar... Joking wif u oni...     0\n",
       "2     spam  Free entry in 2 a wkly comp to win FA Cup fina...     1\n",
       "3      ham  U dun say so early hor... U c already then say...     0\n",
       "4      ham  Nah I don't think he goes to usf, he lives aro...     0"
      ]
     },
     "execution_count": 20,
     "metadata": {},
     "output_type": "execute_result"
    }
   ],
   "source": [
    "df.head()"
   ]
  },
  {
   "cell_type": "code",
   "execution_count": 21,
   "id": "de3848f4",
   "metadata": {},
   "outputs": [
    {
     "data": {
      "text/plain": [
       "(5572, 3)"
      ]
     },
     "execution_count": 21,
     "metadata": {},
     "output_type": "execute_result"
    }
   ],
   "source": [
    "df.shape"
   ]
  },
  {
   "cell_type": "code",
   "execution_count": 22,
   "id": "483da8a6",
   "metadata": {},
   "outputs": [],
   "source": [
    "from sklearn.model_selection import train_test_split"
   ]
  },
  {
   "cell_type": "raw",
   "id": "38698112",
   "metadata": {},
   "source": [
    "Scikit-Learn kütüphanesinden train_test_split fonksiyonunu içe aktarır. Bu fonksiyon, bir veri setini eğitim ve test alt kümelere bölmek için kullanılır. Genellikle, makine öğrenimi modelinin eğitimini gerçekleştirmek ve ardından bu modelin performansını değerlendirmek için kullanılan veri setini iki ayrı parçaya ayırmak amacıyla kullanılır."
   ]
  },
  {
   "cell_type": "code",
   "execution_count": 33,
   "id": "1aa63e9d",
   "metadata": {},
   "outputs": [],
   "source": [
    "X_train, X_test, y_train, y_test = train_test_split(df.Message, df.spam, test_size=0.2)"
   ]
  },
  {
   "cell_type": "code",
   "execution_count": 34,
   "id": "4c6d8606",
   "metadata": {},
   "outputs": [
    {
     "data": {
      "text/plain": [
       "(4457,)"
      ]
     },
     "execution_count": 34,
     "metadata": {},
     "output_type": "execute_result"
    }
   ],
   "source": [
    "X_train.shape"
   ]
  },
  {
   "cell_type": "code",
   "execution_count": 35,
   "id": "ad9dec06",
   "metadata": {},
   "outputs": [
    {
     "data": {
      "text/plain": [
       "(1115,)"
      ]
     },
     "execution_count": 35,
     "metadata": {},
     "output_type": "execute_result"
    }
   ],
   "source": [
    "X_test.shape"
   ]
  },
  {
   "cell_type": "code",
   "execution_count": 36,
   "id": "75162710",
   "metadata": {},
   "outputs": [
    {
     "data": {
      "text/plain": [
       "pandas.core.series.Series"
      ]
     },
     "execution_count": 36,
     "metadata": {},
     "output_type": "execute_result"
    }
   ],
   "source": [
    "#pandas dizisi\n",
    "type(X_train)"
   ]
  },
  {
   "cell_type": "code",
   "execution_count": 37,
   "id": "7411d5e6",
   "metadata": {},
   "outputs": [
    {
     "data": {
      "text/plain": [
       "2250    Thanks for your ringtone order, ref number R83...\n",
       "1331                          Aight no rush, I'll ask jay\n",
       "1003    Yes..he is really great..bhaji told kallis bes...\n",
       "3919    No need to ke qi... Ü too bored izzit y sudden...\n",
       "3340    Babe !!!! I LOVE YOU !!!! *covers your face in...\n",
       "415     100 dating service cal;l 09064012103 box334sk38ch\n",
       "1180                  To day class is there are no class.\n",
       "Name: Message, dtype: object"
      ]
     },
     "execution_count": 37,
     "metadata": {},
     "output_type": "execute_result"
    }
   ],
   "source": [
    "X_train[:7]"
   ]
  },
  {
   "cell_type": "code",
   "execution_count": 38,
   "id": "3cf20759",
   "metadata": {},
   "outputs": [
    {
     "data": {
      "text/plain": [
       "pandas.core.series.Series"
      ]
     },
     "execution_count": 38,
     "metadata": {},
     "output_type": "execute_result"
    }
   ],
   "source": [
    "type(y_train)"
   ]
  },
  {
   "cell_type": "code",
   "execution_count": 39,
   "id": "b7445fe5",
   "metadata": {},
   "outputs": [
    {
     "data": {
      "text/plain": [
       "2250    1\n",
       "1331    0\n",
       "1003    0\n",
       "3919    0\n",
       "3340    0\n",
       "415     1\n",
       "1180    0\n",
       "Name: spam, dtype: int64"
      ]
     },
     "execution_count": 39,
     "metadata": {},
     "output_type": "execute_result"
    }
   ],
   "source": [
    "y_train[:7]"
   ]
  },
  {
   "cell_type": "code",
   "execution_count": 40,
   "id": "af594b27",
   "metadata": {},
   "outputs": [
    {
     "data": {
      "text/plain": [
       "array(['Thanks for your ringtone order, ref number R836. Your mobile will be charged £4.50. Should your tone not arrive please call customer services on 09065069154',\n",
       "       \"Aight no rush, I'll ask jay\",\n",
       "       'Yes..he is really great..bhaji told kallis best cricketer after sachin in world:).very tough to get out.',\n",
       "       ...,\n",
       "       'You are now unsubscribed all services. Get tons of sexy babes or hunks straight to your phone! go to http://gotbabes.co.uk. No subscriptions.',\n",
       "       'Do you want a new Video phone? 600 anytime any network mins 400 Inclusive Video calls AND downloads 5 per week Free delTOMORROW call 08002888812 or reply NOW',\n",
       "       'Ok ok take care. I can understand.'], dtype=object)"
      ]
     },
     "execution_count": 40,
     "metadata": {},
     "output_type": "execute_result"
    }
   ],
   "source": [
    "X_train.values"
   ]
  },
  {
   "cell_type": "code",
   "execution_count": 41,
   "id": "11cfcdda",
   "metadata": {},
   "outputs": [
    {
     "data": {
      "text/plain": [
       "<4457x7770 sparse matrix of type '<class 'numpy.int64'>'\n",
       "\twith 59113 stored elements in Compressed Sparse Row format>"
      ]
     },
     "execution_count": 41,
     "metadata": {},
     "output_type": "execute_result"
    }
   ],
   "source": [
    "from sklearn.feature_extraction.text import CountVectorizer\n",
    "\n",
    "v=CountVectorizer()\n",
    "# X_train veri kümesini CountVectorizer kullanarak vektörlere dönüştürme\n",
    "X_train_cv = v.fit_transform(X_train.values)\n",
    "\n",
    "X_train_cv"
   ]
  },
  {
   "cell_type": "raw",
   "id": "acb5bc21",
   "metadata": {},
   "source": [
    "Elde edilen X_train_cv değişkeni, X_train veri kümesindeki metin belgelerini temsil etmek üzere vektör formatında bir sayı matrisidir. Bu matris, her bir belgenin içinde geçen kelimelerin sıklıklarını içerir. "
   ]
  },
  {
   "cell_type": "code",
   "execution_count": 42,
   "id": "bcfa4be7",
   "metadata": {},
   "outputs": [
    {
     "data": {
      "text/plain": [
       "array([[0, 0, 0, ..., 0, 0, 0],\n",
       "       [0, 0, 0, ..., 0, 0, 0],\n",
       "       [0, 0, 0, ..., 0, 0, 0],\n",
       "       ...,\n",
       "       [0, 0, 0, ..., 0, 0, 0],\n",
       "       [0, 0, 0, ..., 0, 0, 0],\n",
       "       [0, 0, 0, ..., 0, 0, 0]], dtype=int64)"
      ]
     },
     "execution_count": 42,
     "metadata": {},
     "output_type": "execute_result"
    }
   ],
   "source": [
    "X_train_cv.toarray()"
   ]
  },
  {
   "cell_type": "code",
   "execution_count": 43,
   "id": "6a2213f4",
   "metadata": {},
   "outputs": [
    {
     "data": {
      "text/plain": [
       "array([0, 0, 0, ..., 0, 0, 0], dtype=int64)"
      ]
     },
     "execution_count": 43,
     "metadata": {},
     "output_type": "execute_result"
    }
   ],
   "source": [
    "X_train_cv.toarray()[:2][0]"
   ]
  },
  {
   "cell_type": "code",
   "execution_count": 44,
   "id": "94e77bd6",
   "metadata": {},
   "outputs": [
    {
     "data": {
      "text/plain": [
       "(4457, 7770)"
      ]
     },
     "execution_count": 44,
     "metadata": {},
     "output_type": "execute_result"
    }
   ],
   "source": [
    "X_train_cv.shape"
   ]
  },
  {
   "cell_type": "code",
   "execution_count": 45,
   "id": "c51c821e",
   "metadata": {},
   "outputs": [
    {
     "name": "stdout",
     "output_type": "stream",
     "text": [
      "\n",
      "Kelime Dağarcığı:\n",
      "['00' '000' '008704050406' ... 'èn' 'ú1' '〨ud']\n"
     ]
    }
   ],
   "source": [
    "print(\"\\nKelime Dağarcığı:\")\n",
    "print(v.get_feature_names_out())"
   ]
  },
  {
   "cell_type": "code",
   "execution_count": 51,
   "id": "56ff0eeb",
   "metadata": {},
   "outputs": [
    {
     "name": "stdout",
     "output_type": "stream",
     "text": [
      "\n",
      "Kelime Dağarcığı 1000-1050 arası:\n",
      "['apeshit' 'apnt' 'apo' 'apologise' 'apology' 'app' 'apparently' 'appeal'\n",
      " 'appear' 'appendix' 'applausestore' 'applebees' 'apples' 'application'\n",
      " 'apply' 'applyed' 'applying' 'appointment' 'appointments' 'appreciate'\n",
      " 'appreciated' 'approaches' 'appropriate' 'approx' 'apps' 'appt' 'appy'\n",
      " 'april' 'apt' 'ar' 'arabian' 'arcade' 'archive' 'ard' 'are' 'area' 'aren'\n",
      " 'arent' 'aretaking' 'areyouunique' 'argentina' 'argh' 'argue' 'arguing'\n",
      " 'argument' 'arguments' 'aries' 'arise' 'arises' 'arithmetic']\n"
     ]
    }
   ],
   "source": [
    "print(\"\\nKelime Dağarcığı 1000-1050 arası:\")\n",
    "print(v.get_feature_names_out()[1000:1050])"
   ]
  },
  {
   "cell_type": "code",
   "execution_count": 52,
   "id": "56c1c9be",
   "metadata": {},
   "outputs": [
    {
     "data": {
      "text/plain": [
       "(7770,)"
      ]
     },
     "execution_count": 52,
     "metadata": {},
     "output_type": "execute_result"
    }
   ],
   "source": [
    "v.get_feature_names_out().shape"
   ]
  },
  {
   "cell_type": "code",
   "execution_count": 54,
   "id": "f2ffb9fb",
   "metadata": {},
   "outputs": [
    {
     "data": {
      "text/plain": [
       "['__annotations__',\n",
       " '__class__',\n",
       " '__delattr__',\n",
       " '__dict__',\n",
       " '__dir__',\n",
       " '__doc__',\n",
       " '__eq__',\n",
       " '__format__',\n",
       " '__ge__',\n",
       " '__getattribute__',\n",
       " '__getstate__',\n",
       " '__gt__',\n",
       " '__hash__',\n",
       " '__init__',\n",
       " '__init_subclass__',\n",
       " '__le__',\n",
       " '__lt__',\n",
       " '__module__',\n",
       " '__ne__',\n",
       " '__new__',\n",
       " '__reduce__',\n",
       " '__reduce_ex__',\n",
       " '__repr__',\n",
       " '__setattr__',\n",
       " '__setstate__',\n",
       " '__sizeof__',\n",
       " '__sklearn_clone__',\n",
       " '__str__',\n",
       " '__subclasshook__',\n",
       " '__weakref__',\n",
       " '_build_request_for_signature',\n",
       " '_char_ngrams',\n",
       " '_char_wb_ngrams',\n",
       " '_check_feature_names',\n",
       " '_check_n_features',\n",
       " '_check_stop_words_consistency',\n",
       " '_check_vocabulary',\n",
       " '_count_vocab',\n",
       " '_get_default_requests',\n",
       " '_get_metadata_request',\n",
       " '_get_param_names',\n",
       " '_get_tags',\n",
       " '_limit_features',\n",
       " '_more_tags',\n",
       " '_parameter_constraints',\n",
       " '_repr_html_',\n",
       " '_repr_html_inner',\n",
       " '_repr_mimebundle_',\n",
       " '_sort_features',\n",
       " '_stop_words_id',\n",
       " '_validate_data',\n",
       " '_validate_ngram_range',\n",
       " '_validate_params',\n",
       " '_validate_vocabulary',\n",
       " '_warn_for_unused_params',\n",
       " '_white_spaces',\n",
       " '_word_ngrams',\n",
       " 'analyzer',\n",
       " 'binary',\n",
       " 'build_analyzer',\n",
       " 'build_preprocessor',\n",
       " 'build_tokenizer',\n",
       " 'decode',\n",
       " 'decode_error',\n",
       " 'dtype',\n",
       " 'encoding',\n",
       " 'fit',\n",
       " 'fit_transform',\n",
       " 'fixed_vocabulary_',\n",
       " 'get_feature_names_out',\n",
       " 'get_metadata_routing',\n",
       " 'get_params',\n",
       " 'get_stop_words',\n",
       " 'input',\n",
       " 'inverse_transform',\n",
       " 'lowercase',\n",
       " 'max_df',\n",
       " 'max_features',\n",
       " 'min_df',\n",
       " 'ngram_range',\n",
       " 'preprocessor',\n",
       " 'set_fit_request',\n",
       " 'set_params',\n",
       " 'set_transform_request',\n",
       " 'stop_words',\n",
       " 'stop_words_',\n",
       " 'strip_accents',\n",
       " 'token_pattern',\n",
       " 'tokenizer',\n",
       " 'transform',\n",
       " 'vocabulary',\n",
       " 'vocabulary_']"
      ]
     },
     "execution_count": 54,
     "metadata": {},
     "output_type": "execute_result"
    }
   ],
   "source": [
    "#v değişkeninde desteklenen tüm yöntemleri gösterecek\n",
    "dir(v)"
   ]
  },
  {
   "cell_type": "code",
   "execution_count": 55,
   "id": "9620c788",
   "metadata": {},
   "outputs": [
    {
     "data": {
      "text/plain": [
       "{'thanks': 6812,\n",
       " 'for': 2946,\n",
       " 'your': 7732,\n",
       " 'ringtone': 5798,\n",
       " 'order': 4994,\n",
       " 'ref': 5663,\n",
       " 'number': 4873,\n",
       " 'r836': 5555,\n",
       " 'mobile': 4556,\n",
       " 'will': 7539,\n",
       " 'be': 1259,\n",
       " 'charged': 1727,\n",
       " '50': 525,\n",
       " 'should': 6136,\n",
       " 'tone': 6968,\n",
       " 'not': 4844,\n",
       " 'arrive': 1061,\n",
       " 'please': 5263,\n",
       " 'call': 1604,\n",
       " 'customer': 2132,\n",
       " 'services': 6046,\n",
       " 'on': 4946,\n",
       " '09065069154': 214,\n",
       " 'aight': 871,\n",
       " 'no': 4809,\n",
       " 'rush': 5868,\n",
       " 'll': 4181,\n",
       " 'ask': 1079,\n",
       " 'jay': 3817,\n",
       " 'yes': 7713,\n",
       " 'he': 3381,\n",
       " 'is': 3766,\n",
       " 'really': 5621,\n",
       " 'great': 3249,\n",
       " 'bhaji': 1332,\n",
       " 'told': 6956,\n",
       " 'kallis': 3909,\n",
       " 'best': 1318,\n",
       " 'cricketer': 2080,\n",
       " 'after': 846,\n",
       " 'sachin': 5879,\n",
       " 'in': 3661,\n",
       " 'world': 7619,\n",
       " 'very': 7289,\n",
       " 'tough': 7006,\n",
       " 'to': 6939,\n",
       " 'get': 3128,\n",
       " 'out': 5022,\n",
       " 'need': 4742,\n",
       " 'ke': 3925,\n",
       " 'qi': 5533,\n",
       " 'too': 6980,\n",
       " 'bored': 1433,\n",
       " 'izzit': 3793,\n",
       " 'suddenly': 6588,\n",
       " 'thk': 6861,\n",
       " 'of': 4907,\n",
       " 'this': 6860,\n",
       " 'babe': 1172,\n",
       " 'love': 4248,\n",
       " 'you': 7728,\n",
       " 'covers': 2047,\n",
       " 'face': 2745,\n",
       " 'kisses': 3971,\n",
       " '100': 251,\n",
       " 'dating': 2179,\n",
       " 'service': 6045,\n",
       " 'cal': 1599,\n",
       " '09064012103': 206,\n",
       " 'box334sk38ch': 1456,\n",
       " 'day': 2184,\n",
       " 'class': 1826,\n",
       " 'there': 6840,\n",
       " 'are': 1034,\n",
       " 'why': 7523,\n",
       " 'must': 4674,\n",
       " 'we': 7433,\n",
       " 'sit': 6198,\n",
       " 'around': 1055,\n",
       " 'and': 953,\n",
       " 'wait': 7369,\n",
       " 'summer': 6606,\n",
       " 'days': 2185,\n",
       " 'celebrate': 1698,\n",
       " 'such': 6583,\n",
       " 'magical': 4327,\n",
       " 'sight': 6168,\n",
       " 'when': 7501,\n",
       " 'the': 6822,\n",
       " 'worlds': 7620,\n",
       " 'dressed': 2449,\n",
       " 'white': 7513,\n",
       " 'oooooh': 4965,\n",
       " 'let': 4110,\n",
       " 'snow': 6289,\n",
       " 'am': 927,\n",
       " 'train': 7018,\n",
       " 'back': 1180,\n",
       " 'from': 3027,\n",
       " 'northampton': 4839,\n",
       " 'so': 6293,\n",
       " 'afraid': 842,\n",
       " 'sac': 5878,\n",
       " 'needs': 4747,\n",
       " 'carry': 1667,\n",
       " 'my': 4682,\n",
       " 'tuition': 7082,\n",
       " 'at': 1100,\n",
       " '330': 432,\n",
       " 'hm': 3468,\n",
       " 'go': 3172,\n",
       " '1120': 264,\n",
       " '1205': 272,\n",
       " 'one': 4950,\n",
       " 'do': 2376,\n",
       " 'mind': 4497,\n",
       " 'show': 6141,\n",
       " 'ur': 7212,\n",
       " 'colours': 1898,\n",
       " 'euro': 2654,\n",
       " '2004': 339,\n",
       " 'offer': 4913,\n",
       " 'an': 949,\n",
       " 'england': 2601,\n",
       " 'flag': 2889,\n",
       " '3lions': 449,\n",
       " 'phone': 5203,\n",
       " 'click': 1839,\n",
       " 'following': 2931,\n",
       " 'message': 4468,\n",
       " 'info': 3690,\n",
       " 'prob': 5446,\n",
       " 'send': 6023,\n",
       " 'email': 2570,\n",
       " 'dont': 2411,\n",
       " 'worry': 7624,\n",
       " 'big': 1339,\n",
       " 'lambu': 4026,\n",
       " 'ji': 3843,\n",
       " 'vl': 7332,\n",
       " 'come': 1905,\n",
       " 'til': 6903,\n",
       " 'then': 6835,\n",
       " 'enjoy': 2603,\n",
       " 'batchlor': 1231,\n",
       " 'party': 5112,\n",
       " 'nope': 4829,\n",
       " 'thats': 6821,\n",
       " 'fine': 2863,\n",
       " 'might': 4484,\n",
       " 'have': 3370,\n",
       " 'nap': 4712,\n",
       " 'tho': 6867,\n",
       " 'ok': 4929,\n",
       " 'give': 3155,\n",
       " 'me': 4419,\n",
       " 'minutes': 4510,\n",
       " 'think': 6853,\n",
       " 'see': 5995,\n",
       " 'her': 3428,\n",
       " 'btw': 1536,\n",
       " 're': 5603,\n",
       " 'alibi': 902,\n",
       " 'were': 7480,\n",
       " 'cutting': 2140,\n",
       " 'hair': 3314,\n",
       " 'whole': 7517,\n",
       " 'time': 6906,\n",
       " 'hey': 3439,\n",
       " 'tmr': 6933,\n",
       " 'meet': 4435,\n",
       " 'bugis': 1545,\n",
       " '930': 722,\n",
       " 'having': 3376,\n",
       " 'lunch': 4280,\n",
       " 'alone': 913,\n",
       " 'now': 4858,\n",
       " 'parked': 5101,\n",
       " 'next': 4781,\n",
       " 'mini': 4501,\n",
       " 'coming': 1911,\n",
       " 'today': 6945,\n",
       " 'thought': 6872,\n",
       " 'praps': 5380,\n",
       " 'meant': 4426,\n",
       " 'another': 973,\n",
       " 'goodo': 3206,\n",
       " 'look': 4217,\n",
       " 'tomorrow': 6966,\n",
       " 'presnts': 5413,\n",
       " 'always': 925,\n",
       " 'bcz': 1257,\n",
       " 'cant': 1640,\n",
       " 'mis': 4513,\n",
       " 'jeevithathile': 3827,\n",
       " 'irulinae': 3765,\n",
       " 'neekunna': 4748,\n",
       " 'prakasamanu': 5378,\n",
       " 'sneham': 6285,\n",
       " 'prakasam': 5377,\n",
       " 'ennal': 2608,\n",
       " 'prabha': 5368,\n",
       " 'that': 6818,\n",
       " 'mns': 4549,\n",
       " 'got': 3214,\n",
       " 'it': 3775,\n",
       " 'haha': 3310,\n",
       " 'legs': 4096,\n",
       " 'neck': 4739,\n",
       " 'killing': 3958,\n",
       " 'amigos': 933,\n",
       " 'hoping': 3515,\n",
       " 'end': 2587,\n",
       " 'night': 4790,\n",
       " 'with': 7570,\n",
       " 'burn': 1560,\n",
       " 'could': 2030,\n",
       " 'swing': 6675,\n",
       " 'by': 1588,\n",
       " 'like': 4136,\n",
       " 'hour': 3533,\n",
       " 'accordingly': 778,\n",
       " 'repeat': 5720,\n",
       " 'just': 3894,\n",
       " 'text': 6795,\n",
       " 'word': 7611,\n",
       " 'what': 7494,\n",
       " 'eat': 2517,\n",
       " 'fo': 2925,\n",
       " 'senor': 6026,\n",
       " 'nothing': 4849,\n",
       " 'lor': 4228,\n",
       " 'bit': 1360,\n",
       " 'dun': 2488,\n",
       " 'home': 3491,\n",
       " 'early': 2506,\n",
       " 'sleep': 6227,\n",
       " 'dunno': 2490,\n",
       " 'lei': 4098,\n",
       " 'shd': 6090,\n",
       " 'driving': 2459,\n",
       " 'cos': 2020,\n",
       " 'sch': 5946,\n",
       " 'hr': 3549,\n",
       " 'oni': 4952,\n",
       " 'freemsg': 2996,\n",
       " 'haven': 3372,\n",
       " 'replied': 5726,\n",
       " 'randy': 5583,\n",
       " 'sexy': 6061,\n",
       " 'female': 2821,\n",
       " 'live': 4175,\n",
       " 'local': 4192,\n",
       " 'luv': 4284,\n",
       " 'hear': 3393,\n",
       " 'netcollex': 4760,\n",
       " 'ltd': 4272,\n",
       " '08700621170150p': 71,\n",
       " 'per': 5160,\n",
       " 'msg': 4630,\n",
       " 'reply': 5728,\n",
       " 'stop': 6503,\n",
       " 'still': 6491,\n",
       " 'want': 7394,\n",
       " 'yogasana': 7725,\n",
       " 'coz': 2048,\n",
       " 'if': 3619,\n",
       " 'cine': 1812,\n",
       " 'can': 1628,\n",
       " 'bathe': 1233,\n",
       " 'hav': 3368,\n",
       " 'steam': 6477,\n",
       " 'bath': 1232,\n",
       " 'yeah': 7702,\n",
       " 'sure': 6636,\n",
       " 'couple': 2038,\n",
       " 'track': 7014,\n",
       " 'down': 2429,\n",
       " 'wallet': 7384,\n",
       " 'going': 3185,\n",
       " 'hi': 3443,\n",
       " 'its': 3783,\n",
       " 'kate': 3919,\n",
       " 'ring': 5797,\n",
       " 'asap': 1072,\n",
       " 'xxx': 7679,\n",
       " 'free': 2989,\n",
       " 'billed': 1344,\n",
       " 'mistake': 4530,\n",
       " 'shortcode': 6130,\n",
       " '83332': 657,\n",
       " '08081263000': 59,\n",
       " 'charges': 1728,\n",
       " 'refunded': 5672,\n",
       " 'bt': 1534,\n",
       " 'landline': 4031,\n",
       " 'pride': 5427,\n",
       " 'almost': 912,\n",
       " 'lt': 4271,\n",
       " 'gt': 3275,\n",
       " 'years': 7704,\n",
       " 'old': 4938,\n",
       " 'shouldn': 6137,\n",
       " 'takin': 6709,\n",
       " 'money': 4582,\n",
       " 'kid': 3951,\n",
       " 'supposed': 6633,\n",
       " 'deal': 2192,\n",
       " 'stuff': 6552,\n",
       " 'grownup': 3270,\n",
       " 'don': 2407,\n",
       " 'tell': 6766,\n",
       " 'was': 7406,\n",
       " 'up': 7195,\n",
       " 'all': 904,\n",
       " 'worrying': 7625,\n",
       " 'about': 754,\n",
       " 'appt': 1025,\n",
       " 'shame': 6077,\n",
       " 'missed': 4521,\n",
       " 'girls': 3152,\n",
       " 'quizzes': 5552,\n",
       " 'popcorn': 5324,\n",
       " 'doing': 2398,\n",
       " 'depends': 2256,\n",
       " 'quality': 5537,\n",
       " 'type': 7120,\n",
       " 'sent': 6032,\n",
       " 'boye': 1465,\n",
       " 'faded': 2751,\n",
       " 'glory': 3165,\n",
       " 'ralphs': 5578,\n",
       " 'maybe': 4412,\n",
       " 'anyway': 994,\n",
       " 'treat': 7040,\n",
       " 'sorry': 6342,\n",
       " 'later': 4054,\n",
       " 'kind': 3961,\n",
       " 'asthma': 1094,\n",
       " 'attack': 1110,\n",
       " 'nxt': 4884,\n",
       " 'half': 3319,\n",
       " 'where': 7505,\n",
       " 'park': 5100,\n",
       " 'but': 1572,\n",
       " 'which': 7509,\n",
       " 'worse': 7626,\n",
       " 'okay': 4930,\n",
       " 'private': 5439,\n",
       " 'account': 779,\n",
       " 'statement': 6464,\n",
       " '078498': 39,\n",
       " 'shows': 6149,\n",
       " '786': 616,\n",
       " 'unredeemed': 7185,\n",
       " 'bonus': 1422,\n",
       " 'points': 5301,\n",
       " 'claim': 1818,\n",
       " '08719180219': 149,\n",
       " 'identifier': 3613,\n",
       " 'code': 1876,\n",
       " '45239': 490,\n",
       " 'expires': 2722,\n",
       " '06': 19,\n",
       " '05': 16,\n",
       " 'house': 3536,\n",
       " 'maid': 4332,\n",
       " 'murderer': 4667,\n",
       " 'man': 4350,\n",
       " 'murdered': 4666,\n",
       " 'th': 6807,\n",
       " 'january': 3811,\n",
       " 'as': 1070,\n",
       " 'public': 5503,\n",
       " 'holiday': 3487,\n",
       " 'govt': 3222,\n",
       " 'instituitions': 3719,\n",
       " 'closed': 1847,\n",
       " 'including': 3670,\n",
       " 'post': 5344,\n",
       " 'office': 4916,\n",
       " 'yay': 7700,\n",
       " 'finally': 2858,\n",
       " 'lol': 4208,\n",
       " 'our': 5020,\n",
       " 'cinema': 1813,\n",
       " 'trip': 7050,\n",
       " 'last': 4048,\n",
       " 'week': 7456,\n",
       " 'doesn': 2387,\n",
       " 'thus': 6892,\n",
       " 'trying': 7070,\n",
       " 'smoke': 6269,\n",
       " 'good': 3197,\n",
       " 'weekend': 7458,\n",
       " 'da': 2147,\n",
       " 'car': 1648,\n",
       " 'nationwide': 4721,\n",
       " 'auto': 1135,\n",
       " 'centre': 1703,\n",
       " 'or': 4986,\n",
       " 'something': 6317,\n",
       " 'newport': 4776,\n",
       " 'road': 5809,\n",
       " 'liked': 4137,\n",
       " 'them': 6831,\n",
       " 'ruin': 5856,\n",
       " 'thesis': 6843,\n",
       " 'wat': 7413,\n",
       " 'awesome': 1158,\n",
       " 'take': 6705,\n",
       " 'doin': 2397,\n",
       " 'tonight': 6975,\n",
       " 'necessarily': 4736,\n",
       " 'expect': 2715,\n",
       " 'done': 2409,\n",
       " 'before': 1289,\n",
       " 'though': 6871,\n",
       " 'because': 1270,\n",
       " 'headin': 3384,\n",
       " 'pain': 5069,\n",
       " 'couldn': 2032,\n",
       " 'importantly': 3650,\n",
       " 'discuss': 2354,\n",
       " 'between': 1326,\n",
       " 'only': 4956,\n",
       " 'urgent': 7216,\n",
       " '09066350750': 220,\n",
       " 'complimentary': 1934,\n",
       " 'ibiza': 3594,\n",
       " '10': 250,\n",
       " '000': 1,\n",
       " 'cash': 1672,\n",
       " 'await': 1152,\n",
       " 'collection': 1892,\n",
       " 'sae': 5883,\n",
       " 'cs': 2095,\n",
       " 'po': 5279,\n",
       " 'box': 1451,\n",
       " '434': 478,\n",
       " 'sk3': 6208,\n",
       " '8wp': 716,\n",
       " '150': 297,\n",
       " 'ppm': 5366,\n",
       " '18': 313,\n",
       " 'whore': 7519,\n",
       " 'unbelievable': 7140,\n",
       " 'keep': 3927,\n",
       " 'buy': 1577,\n",
       " 'us': 7225,\n",
       " 'again': 852,\n",
       " 'guess': 3284,\n",
       " 'busy': 1571,\n",
       " 'honeybee': 3498,\n",
       " 'said': 5889,\n",
       " 'sweetest': 6667,\n",
       " 'god': 3178,\n",
       " 'laughed': 4059,\n",
       " 'amp': 942,\n",
       " 'havnt': 3378,\n",
       " 'met': 4474,\n",
       " 'person': 5178,\n",
       " 'reading': 5611,\n",
       " 'moral': 4596,\n",
       " 'even': 2662,\n",
       " 'crack': 2054,\n",
       " 'jokes': 3861,\n",
       " 'gm': 3167,\n",
       " 'gn': 3169,\n",
       " 'ge': 3109,\n",
       " 'mum': 4656,\n",
       " 'lookin': 4220,\n",
       " 'strong': 6536,\n",
       " 'possession': 5339,\n",
       " 'especially': 2647,\n",
       " 'first': 2877,\n",
       " 'offense': 4912,\n",
       " 'divorce': 2369,\n",
       " 'she': 6091,\n",
       " 'here': 3429,\n",
       " 'how': 3540,\n",
       " 'much': 4647,\n",
       " 'willing': 7540,\n",
       " 'pay': 5135,\n",
       " 'attended': 1114,\n",
       " 'registered': 5680,\n",
       " 'sinco': 6185,\n",
       " 'payee': 5138,\n",
       " 'log': 4200,\n",
       " 'icicibank': 3603,\n",
       " 'com': 1899,\n",
       " 'enter': 2610,\n",
       " 'urn': 7223,\n",
       " 'confirm': 1957,\n",
       " 'beware': 1328,\n",
       " 'frauds': 2983,\n",
       " 'share': 6084,\n",
       " 'disclose': 2349,\n",
       " 'anyone': 989,\n",
       " 'goodmorning': 3202,\n",
       " 'late': 4051,\n",
       " 'min': 4494,\n",
       " 'few': 2826,\n",
       " 'roommates': 5829,\n",
       " 'machan': 4309,\n",
       " 'gym': 3301,\n",
       " 'wil': 7535,\n",
       " 'goodnight': 3203,\n",
       " 'talk': 6712,\n",
       " 'make': 4341,\n",
       " 'new': 4773,\n",
       " 'friends': 3011,\n",
       " 'fall': 2765,\n",
       " 'most': 4605,\n",
       " 'discreet': 2353,\n",
       " 'vip': 7317,\n",
       " '83110': 654,\n",
       " 'who': 7515,\n",
       " 'fact': 2748,\n",
       " 'cleaning': 1832,\n",
       " 'know': 3982,\n",
       " 'upset': 7208,\n",
       " 'priority': 5436,\n",
       " 'constantly': 1979,\n",
       " 'wan': 7389,\n",
       " 'wondering': 7601,\n",
       " 'wont': 7603,\n",
       " 'say': 5933,\n",
       " 'smiling': 6267,\n",
       " 'coping': 2010,\n",
       " 'long': 4214,\n",
       " 'distance': 2361,\n",
       " 'somebody': 6310,\n",
       " 'andros': 958,\n",
       " 'steal': 6475,\n",
       " 'ice': 3601,\n",
       " 'check': 1748,\n",
       " 'audrey': 1125,\n",
       " 'status': 6467,\n",
       " 'right': 5791,\n",
       " 'filthy': 2855,\n",
       " 'stories': 6514,\n",
       " 'waiting': 7372,\n",
       " 'asked': 1081,\n",
       " 'needed': 4744,\n",
       " 'anything': 991,\n",
       " 'ago': 863,\n",
       " 'wen': 7475,\n",
       " 'lovable': 4247,\n",
       " 'bcums': 1256,\n",
       " 'angry': 959,\n",
       " 'wid': 7527,\n",
       " 'dnt': 2375,\n",
       " 'seriously': 6042,\n",
       " 'being': 1300,\n",
       " 'childish': 1781,\n",
       " 'true': 7060,\n",
       " 'way': 7429,\n",
       " 'showing': 6146,\n",
       " 'deep': 2217,\n",
       " 'affection': 837,\n",
       " 'care': 1653,\n",
       " 'kettoda': 3937,\n",
       " 'manda': 4355,\n",
       " 'nice': 4784,\n",
       " 'oh': 4924,\n",
       " 'loads': 4188,\n",
       " 'work': 7613,\n",
       " 'during': 2492,\n",
       " 'nasty': 4716,\n",
       " 'cough': 2028,\n",
       " 'dry': 2474,\n",
       " 'shot': 6134,\n",
       " 'help': 3417,\n",
       " 'wants': 7398,\n",
       " 'fuck': 3037,\n",
       " 'lib': 4118,\n",
       " 'havent': 3373,\n",
       " 'finish': 2866,\n",
       " 'yet': 7716,\n",
       " 'started': 6457,\n",
       " 'pray': 5385,\n",
       " 'more': 4597,\n",
       " 'ideas': 3611,\n",
       " 'guys': 3299,\n",
       " 'forward': 2968,\n",
       " 'link': 4154,\n",
       " 'gentle': 3119,\n",
       " 'baby': 1175,\n",
       " 'soon': 6332,\n",
       " 'taking': 6710,\n",
       " 'inches': 3665,\n",
       " 'inside': 3710,\n",
       " 'tight': 6899,\n",
       " 'pussy': 5525,\n",
       " 'leave': 4085,\n",
       " 'barely': 1212,\n",
       " 'stay': 6468,\n",
       " 'sane': 5906,\n",
       " 'fighting': 2840,\n",
       " 'isn': 3771,\n",
       " 'helping': 3422,\n",
       " 'darlin': 2169,\n",
       " 'somethin': 6316,\n",
       " 'im': 3634,\n",
       " 'pub': 5502,\n",
       " 'called': 1610,\n",
       " 'swan': 6656,\n",
       " 'parents': 5097,\n",
       " 'drink': 2451,\n",
       " 'play': 5255,\n",
       " 'computer': 1939,\n",
       " 'aiyah': 878,\n",
       " 'tok': 6952,\n",
       " 'pls': 5269,\n",
       " 'restrict': 5761,\n",
       " 'eating': 2520,\n",
       " 'anythin': 990,\n",
       " 'likes': 4139,\n",
       " 'two': 7104,\n",
       " 'sms': 6274,\n",
       " 'survey': 6647,\n",
       " 'certainly': 1707,\n",
       " 'puts': 5527,\n",
       " 'things': 6852,\n",
       " 'into': 3736,\n",
       " 'perspective': 5184,\n",
       " 'happens': 3344,\n",
       " 'esplanade': 2648,\n",
       " 'else': 2566,\n",
       " 'cud': 2111,\n",
       " 'ppl': 5364,\n",
       " 'gona': 3192,\n",
       " 'l8': 4004,\n",
       " 'buses': 1567,\n",
       " 'gon': 3191,\n",
       " 'past': 5122,\n",
       " 'they': 6846,\n",
       " 'full': 3048,\n",
       " 'waitin': 7371,\n",
       " 'pete': 5189,\n",
       " 'start': 6456,\n",
       " 'double': 2422,\n",
       " 'eviction': 2682,\n",
       " 'spiral': 6395,\n",
       " 'michael': 4479,\n",
       " 'riddance': 5788,\n",
       " 'hello': 3414,\n",
       " 'went': 7477,\n",
       " 'alright': 916,\n",
       " 'sweet': 6666,\n",
       " 'jolt': 3865,\n",
       " 'heart': 3397,\n",
       " 'remind': 5702,\n",
       " 'screamed': 5965,\n",
       " 'across': 789,\n",
       " 'sea': 5976,\n",
       " 'ahmad': 867,\n",
       " 'al': 885,\n",
       " 'hallaq': 3323,\n",
       " 'loved': 4249,\n",
       " 'owned': 5052,\n",
       " 'possessive': 5340,\n",
       " 'passionate': 5118,\n",
       " 'kiss': 3970,\n",
       " 'friend': 3010,\n",
       " 'says': 5937,\n",
       " 'upping': 7206,\n",
       " 'his': 3457,\n",
       " 'grams': 3232,\n",
       " 'yunny': 7750,\n",
       " 'goin': 3183,\n",
       " 'yalru': 7691,\n",
       " 'lyfu': 4290,\n",
       " 'astne': 1095,\n",
       " 'chikku': 1779,\n",
       " 'innu': 3703,\n",
       " 'mundhe': 4662,\n",
       " 'lyf': 4289,\n",
       " 'ali': 900,\n",
       " 'halla': 3322,\n",
       " 'bilo': 1348,\n",
       " 'marriage': 4379,\n",
       " 'program': 5462,\n",
       " 'edhae': 2528,\n",
       " 'nt': 4864,\n",
       " 'ovr': 5046,\n",
       " 'vargu': 7264,\n",
       " 'meow': 4463,\n",
       " 'yo': 7723,\n",
       " 'chance': 1716,\n",
       " 'mine': 4499,\n",
       " 'wanted': 7396,\n",
       " 'miss': 4519,\n",
       " 'glad': 3159,\n",
       " 'talking': 6715,\n",
       " 'win': 7542,\n",
       " '250': 357,\n",
       " 'wkly': 7583,\n",
       " 'shopping': 6125,\n",
       " 'spree': 6425,\n",
       " 'txt': 7106,\n",
       " 'shop': 6123,\n",
       " '80878': 642,\n",
       " 'www': 7664,\n",
       " 'custcare': 2130,\n",
       " '08715705022': 124,\n",
       " '1x150p': 334,\n",
       " 'wk': 7579,\n",
       " 'thank': 6811,\n",
       " 'generally': 3116,\n",
       " 'date': 2176,\n",
       " 'brothas': 1518,\n",
       " 'thangam': 6810,\n",
       " 'dear': 2196,\n",
       " 'lasagna': 4047,\n",
       " 'vodka': 7335,\n",
       " 'respectful': 5750,\n",
       " 'shant': 6082,\n",
       " 'disturb': 2363,\n",
       " 'anymore': 988,\n",
       " 'jia': 3844,\n",
       " 'de': 2190,\n",
       " 'prepare': 5401,\n",
       " 'piggy': 5230,\n",
       " 'awake': 1154,\n",
       " 'bet': 1320,\n",
       " 'sleeping': 6229,\n",
       " 'rite': 5806,\n",
       " 'put': 5526,\n",
       " 'evey': 2681,\n",
       " 'mnth': 4550,\n",
       " 'simpsons': 6183,\n",
       " 'movie': 4619,\n",
       " 'released': 5690,\n",
       " 'july': 3887,\n",
       " '2007': 342,\n",
       " 'name': 4702,\n",
       " 'band': 1198,\n",
       " 'died': 2311,\n",
       " 'film': 2852,\n",
       " 'green': 3253,\n",
       " 'blue': 1402,\n",
       " 'red': 5658,\n",
       " 'official': 4918,\n",
       " 'poly': 5308,\n",
       " 'colour': 1896,\n",
       " 'yer': 7712,\n",
       " 'tonights': 6976,\n",
       " 'game': 3079,\n",
       " '84199': 669,\n",
       " 'optout': 4985,\n",
       " 'eng': 2597,\n",
       " 'box39822': 1458,\n",
       " 'w111wx': 7352,\n",
       " 'hot': 3528,\n",
       " 'fantasies': 2778,\n",
       " '08707500020': 86,\n",
       " '20p': 344,\n",
       " 'ntt': 4867,\n",
       " '1327': 286,\n",
       " 'croydon': 2087,\n",
       " 'cr9': 2052,\n",
       " '5wb': 555,\n",
       " '0870': 69,\n",
       " 'national': 4720,\n",
       " 'rate': 5588,\n",
       " 'ass': 1088,\n",
       " 'doggy': 2394,\n",
       " 'style': 6558,\n",
       " 'missin': 4522,\n",
       " 'hope': 3508,\n",
       " 'jess': 3837,\n",
       " 'xx': 7678,\n",
       " 'serious': 6041,\n",
       " 'proper': 5477,\n",
       " 'tongued': 6974,\n",
       " 'holding': 3486,\n",
       " 'wish': 7563,\n",
       " 'same': 5904,\n",
       " 'gonna': 3195,\n",
       " 'gonnamissu': 3196,\n",
       " 'would': 7633,\n",
       " 'il': 3629,\n",
       " 'postcard': 5346,\n",
       " 'buttheres': 1574,\n",
       " 'aboutas': 755,\n",
       " 'merememberin': 4464,\n",
       " 'asthere': 1093,\n",
       " 'ofsi': 4921,\n",
       " 'breakin': 1487,\n",
       " 'contract': 1991,\n",
       " 'yaxx': 7698,\n",
       " 'pa': 5059,\n",
       " 'makes': 4342,\n",
       " 'sense': 6028,\n",
       " 'carlos': 1663,\n",
       " 'difficult': 2318,\n",
       " 'while': 7510,\n",
       " 'pick': 5217,\n",
       " 'second': 5982,\n",
       " 'batch': 1230,\n",
       " 'gas': 3093,\n",
       " 'depressed': 2259,\n",
       " 'sittin': 6201,\n",
       " 'wind': 7544,\n",
       " 'drops': 2463,\n",
       " 'scary': 5943,\n",
       " 'suffers': 6593,\n",
       " 'lot': 4234,\n",
       " 'violence': 7315,\n",
       " 'bad': 1183,\n",
       " 'people': 5159,\n",
       " 'silence': 6174,\n",
       " 'gud': 3281,\n",
       " 'byatch': 1589,\n",
       " 'whassup': 7493,\n",
       " 'enjoyed': 2604,\n",
       " 'yesterday': 7715,\n",
       " 've': 7275,\n",
       " 'been': 1283,\n",
       " 'touch': 7004,\n",
       " 'fondly': 2934,\n",
       " 'bein': 1299,\n",
       " 'thot': 6869,\n",
       " 'off': 4909,\n",
       " 'abiola': 751,\n",
       " 'applausestore': 1010,\n",
       " 'monthlysubscription': 4592,\n",
       " '50p': 532,\n",
       " 'max6': 4407,\n",
       " 'month': 4590,\n",
       " 'csc': 2097,\n",
       " 'web': 7442,\n",
       " 'age16': 856,\n",
       " '2stop': 401,\n",
       " 'wife': 7530,\n",
       " 'knew': 3979,\n",
       " 'murder': 4665,\n",
       " 'exactly': 2693,\n",
       " 'anybody': 987,\n",
       " 'tactful': 6698,\n",
       " 'alex': 896,\n",
       " 'feel': 2810,\n",
       " 'ten': 6776,\n",
       " 'billion': 1346,\n",
       " 'calls': 1618,\n",
       " 'texts': 6806,\n",
       " 'loving': 4257,\n",
       " 'outsider': 5033,\n",
       " 'tampa': 6721,\n",
       " 'ffffuuuuuuu': 2830,\n",
       " 'fun': 3050,\n",
       " 'without': 7573,\n",
       " 'well': 7472,\n",
       " 'exorcism': 2712,\n",
       " 'emily': 2580,\n",
       " 'rose': 5832,\n",
       " 'may': 4410,\n",
       " 'never': 4769,\n",
       " 'hugs': 3561,\n",
       " 'snogs': 6287,\n",
       " 'catch': 1679,\n",
       " 'actually': 800,\n",
       " 'sunoco': 6616,\n",
       " 'howard': 3541,\n",
       " 'wif': 7529,\n",
       " 'family': 2771,\n",
       " 'aft': 845,\n",
       " 'dat': 2174,\n",
       " 'str': 6517,\n",
       " 'orchard': 4993,\n",
       " 'finished': 2867,\n",
       " 'plate': 5253,\n",
       " 'leftovers': 4092,\n",
       " 'also': 918,\n",
       " 'him': 3451,\n",
       " 'happy': 3347,\n",
       " 'birthday': 1358,\n",
       " 'mail': 4333,\n",
       " 'eatin': 2519,\n",
       " 'frens': 3001,\n",
       " 'lost': 4233,\n",
       " 'vote': 7342,\n",
       " 'wherever': 7507,\n",
       " 'guides': 3290,\n",
       " 'bed': 1276,\n",
       " 'believe': 1301,\n",
       " 'taunton': 6732,\n",
       " 'wow': 7637,\n",
       " 'lions': 4160,\n",
       " 'lionm': 4158,\n",
       " 'mono': 4586,\n",
       " 'lionp': 4159,\n",
       " 'ringtones': 5800,\n",
       " 'co': 1867,\n",
       " 'uk': 7131,\n",
       " 'original': 5004,\n",
       " 'tones': 6969,\n",
       " '3gbp': 447,\n",
       " 'network': 4764,\n",
       " 'operator': 4974,\n",
       " 'rates': 5589,\n",
       " 'apply': 1014,\n",
       " 'meeting': 4437,\n",
       " 'tel': 6761,\n",
       " 'shall': 6076,\n",
       " 'morning': 4601,\n",
       " 'repair': 5718,\n",
       " 'reason': 5625,\n",
       " 'husband': 3580,\n",
       " 'draw': 2442,\n",
       " 'won': 7597,\n",
       " '1000': 252,\n",
       " 'spanish': 6367,\n",
       " '09050000332': 159,\n",
       " 'rstm': 5847,\n",
       " 'sw7': 6653,\n",
       " '3ss': 458,\n",
       " '150ppm': 303,\n",
       " 'plan': 5247,\n",
       " 'pongal': 5315,\n",
       " 'yar': 7694,\n",
       " 'sorts': 6347,\n",
       " 'funny': 3058,\n",
       " 'otherwise': 5014,\n",
       " 'had': 3308,\n",
       " 'part': 5104,\n",
       " 'job': 3849,\n",
       " 'na': 4692,\n",
       " 'brainless': 1473,\n",
       " 'doll': 2401,\n",
       " 'vehicle': 7279,\n",
       " 'sariyag': 5917,\n",
       " 'drive': 2456,\n",
       " 'madoke': 4319,\n",
       " 'barolla': 1216,\n",
       " 'alrite': 917,\n",
       " 'hunny': 3572,\n",
       " 'wot': 7630,\n",
       " '2nite': 396,\n",
       " 'didnt': 2308,\n",
       " 'town': 7010,\n",
       " 'jus': 3893,\n",
       " 'instead': 3718,\n",
       " 'chillin': 1787,\n",
       " 'mo': 4552,\n",
       " 'bedroom': 1280,\n",
       " 'jen': 3828,\n",
       " 'keys': 3940,\n",
       " 'purse': 5521,\n",
       " 'better': 1324,\n",
       " 'liao': 4117,\n",
       " 'wake': 7373,\n",
       " 'justbeen': 3895,\n",
       " 'overa': 5040,\n",
       " 'since': 6184,\n",
       " 'broke': 1514,\n",
       " 'already': 915,\n",
       " 'brains': 1474,\n",
       " 'mush': 4669,\n",
       " 'ac': 766,\n",
       " 'sun0819': 6611,\n",
       " 'posts': 5351,\n",
       " 'seem': 6000,\n",
       " 'cool': 2006,\n",
       " '62468': 567,\n",
       " 'exam': 2694,\n",
       " 'fills': 2851,\n",
       " 'complete': 1928,\n",
       " 'calm': 1620,\n",
       " 'reassurance': 5628,\n",
       " 'playin': 5259,\n",
       " 'space': 6363,\n",
       " 'poker': 5302,\n",
       " 'address': 809,\n",
       " 'probably': 5447,\n",
       " 'apeshit': 1000,\n",
       " 'fancy': 2776,\n",
       " 'lets': 4111,\n",
       " 'saturday': 5925,\n",
       " 'monday': 4580,\n",
       " 'convenience': 1994,\n",
       " 'auntie': 1129,\n",
       " 'huai': 3555,\n",
       " 'juan': 3880,\n",
       " 'stupid': 6557,\n",
       " 'challenge': 1713,\n",
       " 'write': 7643,\n",
       " 'respond': 5752,\n",
       " 'immed': 3643,\n",
       " 'dull': 2485,\n",
       " 'easy': 2516,\n",
       " 'valentine': 7255,\n",
       " 'dis': 2342,\n",
       " 'answers': 980,\n",
       " 'someone': 6311,\n",
       " 'loves': 4256,\n",
       " 'ques': 5540,\n",
       " 'suits': 6600,\n",
       " ...}"
      ]
     },
     "execution_count": 55,
     "metadata": {},
     "output_type": "execute_result"
    }
   ],
   "source": [
    "v.vocabulary_"
   ]
  },
  {
   "cell_type": "code",
   "execution_count": 56,
   "id": "ba79607c",
   "metadata": {},
   "outputs": [
    {
     "data": {
      "text/plain": [
       "'thanks'"
      ]
     },
     "execution_count": 56,
     "metadata": {},
     "output_type": "execute_result"
    }
   ],
   "source": [
    "v.get_feature_names_out()[6812]"
   ]
  },
  {
   "cell_type": "code",
   "execution_count": 62,
   "id": "dfd37073",
   "metadata": {},
   "outputs": [
    {
     "data": {
      "text/plain": [
       "array([[0, 0, 0, ..., 0, 0, 0],\n",
       "       [0, 0, 0, ..., 0, 0, 0],\n",
       "       [0, 0, 0, ..., 0, 0, 0],\n",
       "       [0, 0, 0, ..., 0, 0, 0],\n",
       "       [0, 0, 0, ..., 0, 0, 0],\n",
       "       [0, 0, 0, ..., 0, 0, 0]], dtype=int64)"
      ]
     },
     "execution_count": 62,
     "metadata": {},
     "output_type": "execute_result"
    }
   ],
   "source": [
    "X_train_np = X_train_cv.toarray()\n",
    "\n",
    "X_train_np[:6]"
   ]
  },
  {
   "cell_type": "code",
   "execution_count": 63,
   "id": "2569308b",
   "metadata": {},
   "outputs": [
    {
     "data": {
      "text/plain": [
       "array([0, 0, 0, ..., 0, 0, 0], dtype=int64)"
      ]
     },
     "execution_count": 63,
     "metadata": {},
     "output_type": "execute_result"
    }
   ],
   "source": [
    "X_train_np[:4][0]"
   ]
  },
  {
   "cell_type": "code",
   "execution_count": 64,
   "id": "071be843",
   "metadata": {},
   "outputs": [
    {
     "data": {
      "text/plain": [
       "(array([ 214,  525, 1061, 1259, 1604, 1727, 2132, 2946, 4556, 4844, 4873,\n",
       "        4946, 4994, 5263, 5555, 5663, 5798, 6046, 6136, 6812, 6968, 7539,\n",
       "        7732], dtype=int64),)"
      ]
     },
     "execution_count": 64,
     "metadata": {},
     "output_type": "execute_result"
    }
   ],
   "source": [
    "#hangi indexlerin bir olduğunu anlamak için baktık\n",
    "np.where(X_train_np[0]!=0)"
   ]
  },
  {
   "cell_type": "code",
   "execution_count": 65,
   "id": "86520799",
   "metadata": {},
   "outputs": [
    {
     "data": {
      "text/plain": [
       "2250    Thanks for your ringtone order, ref number R83...\n",
       "1331                          Aight no rush, I'll ask jay\n",
       "1003    Yes..he is really great..bhaji told kallis bes...\n",
       "3919    No need to ke qi... Ü too bored izzit y sudden...\n",
       "3340    Babe !!!! I LOVE YOU !!!! *covers your face in...\n",
       "                              ...                        \n",
       "1248    Horrible gal. Me in sch doing some stuff. How ...\n",
       "3277    Lol your right. What diet? Everyday I cheat an...\n",
       "3059    You are now unsubscribed all services. Get ton...\n",
       "3420    Do you want a new Video phone? 600 anytime any...\n",
       "4051                   Ok ok take care. I can understand.\n",
       "Name: Message, Length: 4457, dtype: object"
      ]
     },
     "execution_count": 65,
     "metadata": {},
     "output_type": "execute_result"
    }
   ],
   "source": [
    "X_train"
   ]
  },
  {
   "cell_type": "code",
   "execution_count": 66,
   "id": "9ed4a526",
   "metadata": {},
   "outputs": [
    {
     "data": {
      "text/plain": [
       "'Thanks for your ringtone order, ref number R836. Your mobile will be charged £4.50. Should your tone not arrive please call customer services on 09065069154'"
      ]
     },
     "execution_count": 66,
     "metadata": {},
     "output_type": "execute_result"
    }
   ],
   "source": [
    "#ilk mail 2250 onu görmek için\n",
    "X_train[2250]"
   ]
  },
  {
   "cell_type": "code",
   "execution_count": 67,
   "id": "7f76c0fb",
   "metadata": {},
   "outputs": [
    {
     "data": {
      "text/plain": [
       "'09065069154'"
      ]
     },
     "execution_count": 67,
     "metadata": {},
     "output_type": "execute_result"
    }
   ],
   "source": [
    "#214 1 olduğu için mailde varmı diye baktık\n",
    "v.get_feature_names_out()[214]"
   ]
  },
  {
   "cell_type": "code",
   "execution_count": 68,
   "id": "64f255cd",
   "metadata": {},
   "outputs": [
    {
     "data": {
      "text/plain": [
       "'r836'"
      ]
     },
     "execution_count": 68,
     "metadata": {},
     "output_type": "execute_result"
    }
   ],
   "source": [
    "v.get_feature_names_out()[5555]"
   ]
  },
  {
   "cell_type": "code",
   "execution_count": 82,
   "id": "9549873c",
   "metadata": {},
   "outputs": [],
   "source": [
    "#vektörün tüm değerlerini görmek için yazılmış kod parçası\n",
    "import sys\n",
    "import numpy\n",
    "numpy.set_printoptions(threshold=sys.maxsize)"
   ]
  },
  {
   "cell_type": "code",
   "execution_count": 83,
   "id": "e0a5baa8",
   "metadata": {},
   "outputs": [
    {
     "data": {
      "text/plain": [
       "array([0, 0, 0, 0, 0, 0, 0, 0, 0, 0, 0, 0, 0, 0, 0, 0, 0, 0, 0, 0, 0, 0,\n",
       "       0, 0, 0, 0, 0, 0, 0, 0, 0, 0, 0, 0, 0, 0, 0, 0, 0, 0, 0, 0, 0, 0,\n",
       "       0, 0, 0, 0, 0, 0, 0, 0, 0, 0, 0, 0, 0, 0, 0, 0, 0, 0, 0, 0, 0, 0,\n",
       "       0, 0, 0, 0, 0, 0, 0, 0, 0, 0, 0, 0, 0, 0, 0, 0, 0, 0, 0, 0, 0, 0,\n",
       "       0, 0, 0, 0, 0, 0, 0, 0, 0, 0, 0, 0, 0, 0, 0, 0, 0, 0, 0, 0, 0, 0,\n",
       "       0, 0, 0, 0, 0, 0, 0, 0, 0, 0, 0, 0, 0, 0, 0, 0, 0, 0, 0, 0, 0, 0,\n",
       "       0, 0, 0, 0, 0, 0, 0, 0, 0, 0, 0, 0, 0, 0, 0, 0, 0, 0, 0, 0, 0, 0,\n",
       "       0, 0, 0, 0, 0, 0, 0, 0, 0, 0, 0, 0, 0, 0, 0, 0, 0, 0, 0, 0, 0, 0,\n",
       "       0, 0, 0, 0, 0, 0, 0, 0, 0, 0, 0, 0, 0, 0, 0, 0, 0, 0, 0, 0, 0, 0,\n",
       "       0, 0, 0, 0, 0, 0, 0, 0, 0, 0, 0, 0, 0, 0, 0, 0, 1, 0, 0, 0, 0, 0,\n",
       "       0, 0, 0, 0, 0, 0, 0, 0, 0, 0, 0, 0, 0, 0, 0, 0, 0, 0, 0, 0, 0, 0,\n",
       "       0, 0, 0, 0, 0, 0, 0, 0, 0, 0, 0, 0, 0, 0, 0, 0, 0, 0, 0, 0, 0, 0,\n",
       "       0, 0, 0, 0, 0, 0, 0, 0, 0, 0, 0, 0, 0, 0, 0, 0, 0, 0, 0, 0, 0, 0,\n",
       "       0, 0, 0, 0, 0, 0, 0, 0, 0, 0, 0, 0, 0, 0, 0, 0, 0, 0, 0, 0, 0, 0,\n",
       "       0, 0, 0, 0, 0, 0, 0, 0, 0, 0, 0, 0, 0, 0, 0, 0, 0, 0, 0, 0, 0, 0,\n",
       "       0, 0, 0, 0, 0, 0, 0, 0, 0, 0, 0, 0, 0, 0, 0, 0, 0, 0, 0, 0, 0, 0,\n",
       "       0, 0, 0, 0, 0, 0, 0, 0, 0, 0, 0, 0, 0, 0, 0, 0, 0, 0, 0, 0, 0, 0,\n",
       "       0, 0, 0, 0, 0, 0, 0, 0, 0, 0, 0, 0, 0, 0, 0, 0, 0, 0, 0, 0, 0, 0,\n",
       "       0, 0, 0, 0, 0, 0, 0, 0, 0, 0, 0, 0, 0, 0, 0, 0, 0, 0, 0, 0, 0, 0,\n",
       "       0, 0, 0, 0, 0, 0, 0, 0, 0, 0, 0, 0, 0, 0, 0, 0, 0, 0, 0, 0, 0, 0,\n",
       "       0, 0, 0, 0, 0, 0, 0, 0, 0, 0, 0, 0, 0, 0, 0, 0, 0, 0, 0, 0, 0, 0,\n",
       "       0, 0, 0, 0, 0, 0, 0, 0, 0, 0, 0, 0, 0, 0, 0, 0, 0, 0, 0, 0, 0, 0,\n",
       "       0, 0, 0, 0, 0, 0, 0, 0, 0, 0, 0, 0, 0, 0, 0, 0, 0, 0, 0, 0, 0, 0,\n",
       "       0, 0, 0, 0, 0, 0, 0, 0, 0, 0, 0, 0, 0, 0, 0, 0, 0, 0, 0, 1, 0, 0,\n",
       "       0, 0, 0, 0, 0, 0, 0, 0, 0, 0, 0, 0, 0, 0, 0, 0, 0, 0, 0, 0, 0, 0,\n",
       "       0, 0, 0, 0, 0, 0, 0, 0, 0, 0, 0, 0, 0, 0, 0, 0, 0, 0, 0, 0, 0, 0,\n",
       "       0, 0, 0, 0, 0, 0, 0, 0, 0, 0, 0, 0, 0, 0, 0, 0, 0, 0, 0, 0, 0, 0,\n",
       "       0, 0, 0, 0, 0, 0, 0, 0, 0, 0, 0, 0, 0, 0, 0, 0, 0, 0, 0, 0, 0, 0,\n",
       "       0, 0, 0, 0, 0, 0, 0, 0, 0, 0, 0, 0, 0, 0, 0, 0, 0, 0, 0, 0, 0, 0,\n",
       "       0, 0, 0, 0, 0, 0, 0, 0, 0, 0, 0, 0, 0, 0, 0, 0, 0, 0, 0, 0, 0, 0,\n",
       "       0, 0, 0, 0, 0, 0, 0, 0, 0, 0, 0, 0, 0, 0, 0, 0, 0, 0, 0, 0, 0, 0,\n",
       "       0, 0, 0, 0, 0, 0, 0, 0, 0, 0, 0, 0, 0, 0, 0, 0, 0, 0, 0, 0, 0, 0,\n",
       "       0, 0, 0, 0, 0, 0, 0, 0, 0, 0, 0, 0, 0, 0, 0, 0, 0, 0, 0, 0, 0, 0,\n",
       "       0, 0, 0, 0, 0, 0, 0, 0, 0, 0, 0, 0, 0, 0, 0, 0, 0, 0, 0, 0, 0, 0,\n",
       "       0, 0, 0, 0, 0, 0, 0, 0, 0, 0, 0, 0, 0, 0, 0, 0, 0, 0, 0, 0, 0, 0,\n",
       "       0, 0, 0, 0, 0, 0, 0, 0, 0, 0, 0, 0, 0, 0, 0, 0, 0, 0, 0, 0, 0, 0,\n",
       "       0, 0, 0, 0, 0, 0, 0, 0, 0, 0, 0, 0, 0, 0, 0, 0, 0, 0, 0, 0, 0, 0,\n",
       "       0, 0, 0, 0, 0, 0, 0, 0, 0, 0, 0, 0, 0, 0, 0, 0, 0, 0, 0, 0, 0, 0,\n",
       "       0, 0, 0, 0, 0, 0, 0, 0, 0, 0, 0, 0, 0, 0, 0, 0, 0, 0, 0, 0, 0, 0,\n",
       "       0, 0, 0, 0, 0, 0, 0, 0, 0, 0, 0, 0, 0, 0, 0, 0, 0, 0, 0, 0, 0, 0,\n",
       "       0, 0, 0, 0, 0, 0, 0, 0, 0, 0, 0, 0, 0, 0, 0, 0, 0, 0, 0, 0, 0, 0,\n",
       "       0, 0, 0, 0, 0, 0, 0, 0, 0, 0, 0, 0, 0, 0, 0, 0, 0, 0, 0, 0, 0, 0,\n",
       "       0, 0, 0, 0, 0, 0, 0, 0, 0, 0, 0, 0, 0, 0, 0, 0, 0, 0, 0, 0, 0, 0,\n",
       "       0, 0, 0, 0, 0, 0, 0, 0, 0, 0, 0, 0, 0, 0, 0, 0, 0, 0, 0, 0, 0, 0,\n",
       "       0, 0, 0, 0, 0, 0, 0, 0, 0, 0, 0, 0, 0, 0, 0, 0, 0, 0, 0, 0, 0, 0,\n",
       "       0, 0, 0, 0, 0, 0, 0, 0, 0, 0, 0, 0, 0, 0, 0, 0, 0, 0, 0, 0, 0, 0,\n",
       "       0, 0, 0, 0, 0, 0, 0, 0, 0, 0, 0, 0, 0, 0, 0, 0, 0, 0, 0, 0, 0, 0,\n",
       "       0, 0, 0, 0, 0, 0, 0, 0, 0, 0, 0, 0, 0, 0, 0, 0, 0, 0, 0, 0, 0, 0,\n",
       "       0, 0, 0, 0, 0, 1, 0, 0, 0, 0, 0, 0, 0, 0, 0, 0, 0, 0, 0, 0, 0, 0,\n",
       "       0, 0, 0, 0, 0, 0, 0, 0, 0, 0, 0, 0, 0, 0, 0, 0, 0, 0, 0, 0, 0, 0,\n",
       "       0, 0, 0, 0, 0, 0, 0, 0, 0, 0, 0, 0, 0, 0, 0, 0, 0, 0, 0, 0, 0, 0,\n",
       "       0, 0, 0, 0, 0, 0, 0, 0, 0, 0, 0, 0, 0, 0, 0, 0, 0, 0, 0, 0, 0, 0,\n",
       "       0, 0, 0, 0, 0, 0, 0, 0, 0, 0, 0, 0, 0, 0, 0, 0, 0, 0, 0, 0, 0, 0,\n",
       "       0, 0, 0, 0, 0, 0, 0, 0, 0, 0, 0, 0, 0, 0, 0, 0, 0, 0, 0, 0, 0, 0,\n",
       "       0, 0, 0, 0, 0, 0, 0, 0, 0, 0, 0, 0, 0, 0, 0, 0, 0, 0, 0, 0, 0, 0,\n",
       "       0, 0, 0, 0, 0, 0, 0, 0, 0, 0, 0, 0, 0, 0, 0, 0, 0, 0, 0, 0, 0, 0,\n",
       "       0, 0, 0, 0, 0, 0, 0, 0, 0, 0, 0, 0, 0, 0, 0, 0, 0, 0, 0, 0, 0, 0,\n",
       "       0, 0, 0, 0, 0, 1, 0, 0, 0, 0, 0, 0, 0, 0, 0, 0, 0, 0, 0, 0, 0, 0,\n",
       "       0, 0, 0, 0, 0, 0, 0, 0, 0, 0, 0, 0, 0, 0, 0, 0, 0, 0, 0, 0, 0, 0,\n",
       "       0, 0, 0, 0, 0, 0, 0, 0, 0, 0, 0, 0, 0, 0, 0, 0, 0, 0, 0, 0, 0, 0,\n",
       "       0, 0, 0, 0, 0, 0, 0, 0, 0, 0, 0, 0, 0, 0, 0, 0, 0, 0, 0, 0, 0, 0,\n",
       "       0, 0, 0, 0, 0, 0, 0, 0, 0, 0, 0, 0, 0, 0, 0, 0, 0, 0, 0, 0, 0, 0,\n",
       "       0, 0, 0, 0, 0, 0, 0, 0, 0, 0, 0, 0, 0, 0, 0, 0, 0, 0, 0, 0, 0, 0,\n",
       "       0, 0, 0, 0, 0, 0, 0, 0, 0, 0, 0, 0, 0, 0, 0, 0, 0, 0, 0, 0, 0, 0,\n",
       "       0, 0, 0, 0, 0, 0, 0, 0, 0, 0, 0, 0, 0, 0, 0, 0, 0, 0, 0, 0, 0, 0,\n",
       "       0, 0, 0, 0, 0, 0, 0, 0, 0, 0, 0, 0, 0, 0, 0, 0, 0, 0, 0, 0, 0, 0,\n",
       "       0, 0, 0, 0, 0, 0, 0, 0, 0, 0, 0, 0, 0, 0, 0, 0, 0, 0, 0, 0, 0, 0,\n",
       "       0, 0, 0, 0, 0, 0, 0, 0, 0, 0, 0, 0, 0, 0, 0, 0, 0, 0, 0, 0, 0, 0,\n",
       "       0, 0, 0, 0, 0, 0, 0, 0, 0, 0, 0, 0, 0, 0, 0, 0, 0, 0, 0, 0, 0, 0,\n",
       "       0, 0, 0, 0, 0, 0, 0, 0, 0, 0, 0, 0, 0, 0, 0, 0, 0, 0, 0, 0, 0, 0,\n",
       "       0, 0, 0, 0, 0, 0, 0, 0, 0, 0, 0, 0, 0, 0, 0, 0, 0, 0, 0, 0, 0, 0,\n",
       "       0, 0, 0, 0, 0, 0, 0, 0, 0, 0, 0, 0, 0, 0, 0, 0, 0, 0, 0, 0, 0, 0,\n",
       "       0, 0, 0, 0, 0, 0, 0, 0, 0, 0, 0, 0, 0, 0, 0, 0, 0, 0, 0, 0, 1, 0,\n",
       "       0, 0, 0, 0, 0, 0, 0, 0, 0, 0, 0, 0, 0, 0, 0, 0, 0, 0, 0, 0, 0, 0,\n",
       "       0, 0, 0, 0, 0, 0, 0, 0, 0, 0, 0, 0, 0, 0, 0, 0, 0, 0, 0, 0, 0, 0,\n",
       "       0, 0, 0, 0, 0, 0, 0, 0, 0, 0, 0, 0, 0, 0, 0, 0, 0, 0, 0, 0, 0, 0,\n",
       "       0, 0, 0, 0, 0, 0, 0, 0, 0, 0, 0, 0, 0, 0, 0, 0, 0, 0, 0, 0, 0, 0,\n",
       "       0, 0, 0, 0, 0, 0, 0, 0, 0, 0, 0, 0, 0, 0, 0, 0, 0, 0, 0, 0, 0, 0,\n",
       "       0, 0, 0, 0, 0, 0, 0, 0, 0, 0, 0, 1, 0, 0, 0, 0, 0, 0, 0, 0, 0, 0,\n",
       "       0, 0, 0, 0, 0, 0, 0, 0, 0, 0, 0, 0, 0, 0, 0, 0, 0, 0, 0, 0, 0, 0,\n",
       "       0, 0, 0, 0, 0, 0, 0, 0, 0, 0, 0, 0, 0, 0, 0, 0, 0, 0, 0, 0, 0, 0,\n",
       "       0, 0, 0, 0, 0, 0, 0, 0, 0, 0, 0, 0, 0, 0, 0, 0, 0, 0, 0, 0, 0, 0,\n",
       "       0, 0, 0, 0, 0, 0, 0, 0, 0, 0, 0, 0, 0, 0, 0, 0, 0, 0, 0, 0, 0, 0,\n",
       "       0, 0, 0, 0, 0, 0, 0, 0, 0, 0, 0, 0, 0, 0, 0, 0, 0, 0, 0, 0, 0, 0,\n",
       "       0, 0, 0, 0, 0, 0, 0, 0, 0, 0, 0, 0, 0, 0, 0, 0, 0, 0, 0, 0, 0, 0,\n",
       "       0, 0, 0, 0, 0, 0, 0, 0, 0, 0, 0, 0, 0, 0, 0, 0, 0, 0, 0, 0, 0, 0,\n",
       "       0, 0, 0, 0, 0, 0, 0, 0, 0, 0, 0, 0, 0, 0, 0, 0, 0, 0, 0, 0, 0, 0,\n",
       "       0, 0, 0, 0, 0, 0, 0, 0, 0, 0, 0, 0, 0, 0, 0, 0, 0, 0, 0, 0, 0, 0,\n",
       "       0, 0, 0, 0, 0, 0, 0, 0, 0, 0, 0, 0, 0, 0, 0, 0, 0, 0, 0, 0, 0, 0,\n",
       "       0, 0, 0, 0, 0, 0, 0, 0, 0, 0, 0, 0, 0, 0, 0, 0, 0, 0, 0, 0, 0, 0,\n",
       "       0, 0, 0, 0, 0, 0, 0, 0, 0, 0, 0, 0, 0, 0, 0, 0, 0, 0, 0, 0, 0, 0,\n",
       "       0, 0, 0, 0, 0, 0, 0, 0, 0, 0, 0, 0, 0, 0, 0, 0, 0, 0, 0, 0, 0, 0,\n",
       "       0, 0, 0, 0, 0, 0, 0, 0, 0, 0, 0, 0, 0, 0, 0, 0, 0, 0, 0, 0, 0, 0,\n",
       "       0, 0, 0, 0, 0, 0, 0, 0, 0, 0, 0, 0, 0, 0, 0, 0, 0, 0, 0, 0, 0, 0,\n",
       "       0, 0, 0, 0, 0, 0, 0, 0, 0, 0, 0, 0, 0, 0, 0, 0, 0, 0, 0, 0, 0, 0,\n",
       "       0, 0, 0, 0, 0, 0, 0, 0, 0, 0, 0, 0, 0, 0, 0, 0, 0, 0, 0, 0, 0, 0,\n",
       "       0, 0, 0, 0, 0, 0, 0, 0, 0, 0, 0, 0, 0, 0, 0, 0, 0, 0, 0, 0, 1, 0,\n",
       "       0, 0, 0, 0, 0, 0, 0, 0, 0, 0, 0, 0, 0, 0, 0, 0, 0, 0, 0, 0, 0, 0,\n",
       "       0, 0, 0, 0, 0, 0, 0, 0, 0, 0, 0, 0, 0, 0, 0, 0, 0, 0, 0, 0, 0, 0,\n",
       "       0, 0, 0, 0, 0, 0, 0, 0, 0, 0, 0, 0, 0, 0, 0, 0, 0, 0, 0, 0, 0, 0,\n",
       "       0, 0, 0, 0, 0, 0, 0, 0, 0, 0, 0, 0, 0, 0, 0, 0, 0, 0, 0, 0, 0, 0,\n",
       "       0, 0, 0, 0, 0, 0, 0, 0, 0, 0, 0, 0, 0, 0, 0, 0, 0, 0, 0, 0, 0, 0,\n",
       "       0, 0, 0, 0, 0, 0, 0, 0, 0, 0, 0, 0, 0, 0, 0, 0, 0, 0, 0, 0, 0, 0,\n",
       "       0, 0, 0, 0, 0, 0, 0, 0, 0, 0, 0, 0, 0, 0, 0, 0, 0, 0, 0, 0, 0, 0,\n",
       "       0, 0, 0, 0, 0, 0, 0, 0, 0, 0, 0, 0, 0, 0, 0, 0, 0, 0, 0, 0, 0, 0,\n",
       "       0, 0, 0, 0, 0, 0, 0, 0, 0, 0, 0, 0, 0, 0, 0, 0, 0, 0, 0, 0, 0, 0,\n",
       "       0, 0, 0, 0, 0, 0, 0, 0, 0, 0, 0, 0, 0, 0, 0, 0, 0, 0, 0, 0, 0, 0,\n",
       "       0, 0, 0, 0, 0, 0, 0, 0, 0, 0, 0, 0, 0, 0, 0, 0, 0, 0, 0, 0, 0, 0,\n",
       "       0, 0, 0, 0, 0, 0, 0, 0, 0, 0, 0, 0, 0, 0, 0, 0, 0, 0, 0, 0, 0, 0,\n",
       "       0, 0, 0, 0, 0, 0, 0, 0, 0, 0, 0, 0, 0, 0, 0, 0, 0, 0, 0, 0, 0, 0,\n",
       "       0, 0, 0, 0, 0, 0, 0, 0, 0, 0, 0, 0, 0, 0, 0, 0, 0, 0, 0, 0, 0, 0,\n",
       "       0, 0, 0, 0, 0, 0, 0, 0, 0, 0, 0, 0, 0, 0, 0, 0, 0, 0, 0, 0, 0, 0,\n",
       "       0, 0, 0, 0, 0, 0, 0, 0, 0, 0, 0, 0, 0, 0, 0, 0, 0, 0, 0, 0, 0, 0,\n",
       "       0, 0, 0, 0, 0, 0, 0, 0, 0, 0, 0, 0, 0, 0, 0, 0, 0, 0, 0, 0, 0, 0,\n",
       "       0, 0, 0, 0, 0, 0, 0, 0, 0, 0, 0, 0, 0, 0, 0, 0, 0, 0, 0, 0, 0, 0,\n",
       "       0, 0, 0, 0, 0, 0, 0, 0, 0, 0, 0, 0, 0, 0, 0, 0, 0, 0, 0, 0, 0, 0,\n",
       "       0, 0, 0, 0, 0, 0, 0, 0, 0, 0, 0, 0, 0, 0, 0, 0, 0, 0, 0, 0, 0, 0,\n",
       "       0, 0, 0, 0, 0, 0, 0, 0, 0, 0, 0, 0, 0, 0, 0, 0, 0, 0, 0, 0, 0, 0,\n",
       "       0, 0, 0, 0, 0, 0, 0, 0, 0, 0, 0, 0, 0, 0, 0, 0, 0, 0, 0, 0, 0, 0,\n",
       "       0, 0, 0, 0, 0, 0, 0, 0, 0, 0, 0, 0, 0, 0, 0, 0, 0, 0, 0, 0, 0, 0,\n",
       "       0, 0, 0, 0, 0, 0, 0, 0, 0, 0, 0, 0, 0, 0, 0, 0, 0, 0, 0, 0, 0, 0,\n",
       "       0, 0, 0, 0, 0, 0, 0, 0, 0, 0, 0, 0, 0, 0, 0, 0, 0, 0, 0, 0, 0, 0,\n",
       "       0, 0, 0, 0, 0, 0, 0, 0, 0, 0, 0, 0, 0, 0, 0, 0, 0, 0, 0, 0, 0, 0,\n",
       "       0, 0, 0, 0, 0, 0, 0, 0, 0, 0, 0, 0, 0, 0, 0, 0, 0, 0, 0, 0, 0, 0,\n",
       "       0, 0, 0, 0, 0, 0, 0, 0, 0, 0, 0, 0, 0, 0, 0, 0, 0, 0, 0, 0, 0, 0,\n",
       "       0, 0, 0, 0, 0, 0, 0, 0, 0, 0, 0, 0, 0, 0, 0, 0, 0, 0, 0, 0, 0, 0,\n",
       "       0, 0, 0, 0, 0, 0, 0, 0, 0, 0, 0, 0, 0, 0, 0, 0, 0, 0, 0, 0, 0, 0,\n",
       "       0, 0, 0, 0, 0, 0, 0, 0, 0, 0, 0, 0, 0, 0, 0, 0, 0, 0, 0, 0, 0, 0,\n",
       "       0, 0, 0, 0, 0, 0, 0, 0, 0, 0, 0, 0, 0, 0, 0, 0, 0, 0, 0, 0, 0, 0,\n",
       "       0, 0, 0, 0, 0, 0, 0, 0, 0, 0, 0, 0, 0, 0, 0, 0, 0, 0, 0, 0, 0, 0,\n",
       "       0, 0, 0, 0, 0, 0, 0, 0, 0, 0, 0, 0, 0, 0, 0, 0, 0, 0, 0, 0, 0, 0,\n",
       "       0, 0, 0, 0, 0, 0, 0, 0, 0, 0, 0, 0, 0, 0, 0, 0, 0, 0, 0, 0, 0, 0,\n",
       "       0, 0, 0, 0, 0, 0, 0, 0, 0, 0, 0, 0, 0, 0, 0, 0, 0, 0, 0, 0, 0, 0,\n",
       "       0, 0, 0, 0, 0, 0, 0, 0, 0, 0, 0, 0, 0, 0, 0, 0, 0, 0, 0, 0, 1, 0,\n",
       "       0, 0, 0, 0, 0, 0, 0, 0, 0, 0, 0, 0, 0, 0, 0, 0, 0, 0, 0, 0, 0, 0,\n",
       "       0, 0, 0, 0, 0, 0, 0, 0, 0, 0, 0, 0, 0, 0, 0, 0, 0, 0, 0, 0, 0, 0,\n",
       "       0, 0, 0, 0, 0, 0, 0, 0, 0, 0, 0, 0, 0, 0, 0, 0, 0, 0, 0, 0, 0, 0,\n",
       "       0, 0, 0, 0, 0, 0, 0, 0, 0, 0, 0, 0, 0, 0, 0, 0, 0, 0, 0, 0, 0, 0,\n",
       "       0, 0, 0, 0, 0, 0, 0, 0, 0, 0, 0, 0, 0, 0, 0, 0, 0, 0, 0, 0, 0, 0,\n",
       "       0, 0, 0, 0, 0, 0, 0, 0, 0, 0, 0, 0, 0, 0, 0, 0, 0, 0, 0, 0, 0, 0,\n",
       "       0, 0, 0, 0, 0, 0, 0, 0, 0, 0, 0, 0, 0, 0, 0, 0, 0, 0, 0, 0, 0, 0,\n",
       "       0, 0, 0, 0, 0, 0, 0, 0, 0, 0, 0, 0, 0, 0, 0, 0, 0, 0, 0, 0, 0, 0,\n",
       "       0, 0, 0, 0, 0, 0, 0, 0, 0, 0, 0, 0, 0, 0, 0, 0, 0, 0, 0, 0, 0, 0,\n",
       "       0, 0, 0, 0, 0, 0, 0, 0, 0, 0, 0, 0, 0, 0, 0, 0, 0, 0, 0, 0, 0, 0,\n",
       "       0, 0, 0, 0, 0, 0, 0, 0, 0, 0, 0, 0, 0, 0, 0, 0, 0, 0, 0, 0, 0, 0,\n",
       "       0, 0, 0, 0, 0, 0, 0, 0, 0, 0, 0, 0, 0, 0, 0, 0, 0, 0, 0, 0, 0, 0,\n",
       "       0, 0, 0, 0, 0, 0, 0, 0, 0, 0, 0, 0, 0, 0, 0, 0, 0, 0, 0, 0, 0, 0,\n",
       "       0, 0, 0, 0, 0, 0, 0, 0, 0, 0, 0, 0, 0, 0, 0, 0, 0, 0, 0, 0, 0, 0,\n",
       "       0, 0, 0, 0, 0, 0, 0, 0, 0, 0, 0, 0, 0, 0, 0, 0, 0, 0, 0, 0, 0, 0,\n",
       "       0, 0, 0, 0, 0, 0, 0, 0, 0, 0, 0, 0, 0, 0, 0, 0, 0, 0, 0, 0, 0, 0,\n",
       "       0, 0, 0, 0, 0, 0, 0, 0, 0, 0, 0, 0, 0, 0, 0, 0, 0, 0, 0, 0, 0, 0,\n",
       "       0, 0, 0, 0, 0, 0, 0, 0, 0, 0, 0, 0, 0, 0, 0, 0, 0, 0, 0, 0, 0, 0,\n",
       "       0, 0, 0, 0, 0, 0, 0, 0, 0, 0, 0, 0, 0, 0, 0, 0, 0, 0, 0, 0, 0, 0,\n",
       "       0, 0, 0, 0, 0, 0, 0, 0, 0, 0, 0, 0, 0, 0, 0, 0, 0, 0, 0, 0, 0, 0,\n",
       "       0, 0, 0, 0, 0, 0, 0, 0, 0, 0, 0, 0, 0, 0, 0, 0, 0, 0, 0, 0, 0, 0,\n",
       "       0, 0, 0, 0, 0, 0, 0, 0, 0, 0, 0, 0, 0, 0, 0, 0, 0, 0, 0, 0, 0, 0,\n",
       "       0, 0, 0, 0, 0, 0, 0, 0, 0, 0, 0, 0, 0, 0, 0, 0, 0, 0, 0, 0, 0, 0,\n",
       "       0, 0, 0, 0, 0, 0, 0, 0, 0, 0, 0, 0, 0, 0, 0, 0, 0, 0, 0, 0, 0, 0,\n",
       "       0, 0, 0, 0, 0, 0, 0, 0, 0, 0, 0, 0, 0, 0, 0, 0, 0, 0, 0, 0, 0, 0,\n",
       "       0, 0, 0, 0, 0, 0, 0, 0, 0, 0, 0, 0, 0, 0, 0, 0, 0, 0, 0, 0, 0, 0,\n",
       "       0, 0, 0, 0, 0, 0, 0, 0, 0, 0, 0, 0, 0, 0, 0, 0, 0, 0, 0, 0, 0, 0,\n",
       "       0, 0, 0, 0, 0, 0, 0, 0, 0, 0, 0, 0, 0, 0, 0, 0, 0, 0, 0, 0, 0, 0,\n",
       "       0, 0, 0, 0, 0, 0, 0, 0, 0, 0, 0, 0, 0, 0, 0, 0, 0, 0, 0, 0, 0, 0,\n",
       "       0, 0, 0, 0, 0, 0, 0, 0, 0, 0, 0, 0, 0, 0, 0, 0, 0, 0, 0, 0, 0, 0,\n",
       "       0, 0, 0, 0, 0, 0, 0, 0, 0, 0, 0, 0, 0, 0, 0, 0, 0, 0, 0, 0, 0, 0,\n",
       "       0, 0, 0, 0, 0, 0, 0, 0, 0, 0, 0, 0, 0, 0, 0, 0, 0, 0, 0, 0, 0, 0,\n",
       "       0, 0, 0, 0, 0, 0, 0, 0, 0, 0, 0, 0, 0, 0, 0, 0, 0, 0, 0, 0, 0, 0,\n",
       "       0, 0, 0, 0, 0, 0, 0, 0, 0, 0, 0, 0, 0, 0, 0, 0, 0, 0, 0, 0, 0, 0,\n",
       "       0, 0, 0, 0, 0, 0, 0, 0, 0, 0, 0, 0, 0, 0, 0, 0, 0, 0, 0, 0, 0, 0,\n",
       "       0, 0, 0, 0, 0, 0, 0, 0, 0, 0, 0, 0, 0, 0, 0, 0, 0, 0, 0, 0, 0, 0,\n",
       "       0, 0, 0, 0, 0, 0, 0, 0, 0, 0, 0, 0, 0, 0, 0, 0, 0, 0, 0, 0, 0, 0,\n",
       "       0, 0, 0, 0, 0, 0, 0, 0, 0, 0, 0, 0, 0, 0, 0, 0, 0, 0, 0, 0, 0, 0,\n",
       "       0, 0, 0, 0, 0, 0, 0, 0, 0, 0, 0, 0, 0, 0, 0, 0, 0, 0, 0, 0, 0, 0,\n",
       "       0, 0, 0, 0, 0, 0, 0, 0, 0, 0, 0, 0, 0, 0, 0, 0, 0, 0, 0, 0, 0, 0,\n",
       "       0, 0, 0, 0, 0, 0, 0, 0, 0, 0, 0, 0, 0, 0, 0, 0, 0, 0, 0, 0, 0, 0,\n",
       "       0, 0, 0, 0, 0, 0, 0, 0, 0, 0, 0, 0, 0, 0, 0, 0, 0, 0, 0, 0, 0, 0,\n",
       "       0, 0, 0, 0, 0, 0, 0, 0, 0, 0, 0, 0, 0, 0, 0, 0, 0, 0, 0, 0, 0, 0,\n",
       "       0, 0, 0, 0, 0, 0, 0, 0, 0, 0, 0, 0, 0, 0, 0, 0, 0, 0, 0, 0, 0, 0,\n",
       "       0, 0, 0, 0, 0, 0, 0, 0, 0, 0, 0, 0, 0, 0, 0, 0, 0, 0, 0, 0, 0, 0,\n",
       "       0, 0, 0, 0, 0, 0, 0, 0, 0, 0, 0, 0, 0, 0, 0, 0, 0, 0, 0, 0, 0, 0,\n",
       "       0, 0, 0, 0, 0, 0, 0, 0, 0, 0, 0, 0, 0, 0, 0, 0, 0, 0, 0, 0, 0, 0,\n",
       "       0, 0, 0, 0, 0, 0, 0, 0, 0, 0, 0, 0, 0, 0, 0, 0, 0, 0, 0, 0, 0, 0,\n",
       "       0, 0, 0, 0, 0, 0, 0, 0, 0, 0, 0, 0, 0, 0, 0, 0, 0, 0, 0, 0, 0, 0,\n",
       "       0, 0, 0, 0, 0, 0, 0, 0, 0, 0, 0, 0, 0, 0, 0, 0, 0, 0, 0, 0, 0, 0,\n",
       "       0, 0, 0, 0, 0, 0, 0, 0, 0, 0, 0, 0, 0, 0, 0, 0, 0, 0, 0, 0, 0, 0,\n",
       "       0, 0, 0, 0, 0, 0, 0, 0, 0, 0, 0, 0, 0, 0, 0, 0, 0, 0, 0, 0, 0, 0,\n",
       "       0, 0, 0, 0, 0, 0, 0, 0, 0, 0, 0, 0, 0, 0, 0, 0, 0, 0, 0, 0, 0, 0,\n",
       "       0, 0, 0, 0, 0, 0, 0, 0, 0, 0, 0, 0, 0, 0, 0, 0, 0, 0, 0, 0, 0, 0,\n",
       "       0, 0, 0, 0, 0, 0, 0, 0, 0, 0, 0, 0, 0, 0, 0, 0, 0, 0, 0, 0, 0, 0,\n",
       "       0, 0, 0, 0, 0, 0, 0, 0, 0, 0, 0, 0, 0, 0, 0, 0, 0, 0, 0, 0, 0, 0,\n",
       "       0, 0, 0, 0, 0, 0, 0, 0, 0, 0, 0, 0, 0, 0, 0, 0, 0, 0, 0, 0, 0, 0,\n",
       "       0, 0, 0, 0, 0, 0, 0, 0, 0, 0, 0, 0, 0, 0, 0, 0, 0, 0, 0, 0, 0, 0,\n",
       "       0, 0, 0, 0, 0, 0, 0, 0, 0, 0, 0, 0, 0, 0, 0, 0, 0, 0, 0, 0, 0, 0,\n",
       "       0, 0, 0, 0, 0, 0, 0, 0, 0, 0, 0, 0, 0, 0, 0, 0, 0, 0, 0, 0, 0, 0,\n",
       "       0, 0, 0, 0, 0, 0, 0, 0, 0, 0, 0, 0, 0, 0, 0, 0, 0, 0, 0, 0, 0, 0,\n",
       "       0, 0, 0, 0, 0, 0, 0, 0, 0, 0, 0, 0, 0, 0, 0, 0, 0, 0, 0, 0, 0, 0,\n",
       "       0, 0, 0, 0, 0, 0, 0, 0, 0, 0, 0, 0, 0, 0, 0, 0, 0, 0, 0, 0, 0, 0,\n",
       "       0, 0, 0, 0, 0, 0, 0, 0, 0, 0, 0, 0, 0, 0, 0, 0, 0, 0, 0, 0, 0, 0,\n",
       "       0, 0, 0, 0, 0, 0, 0, 0, 0, 0, 0, 0, 0, 0, 0, 0, 0, 0, 0, 0, 0, 0,\n",
       "       0, 0, 0, 0, 0, 0, 0, 0, 0, 0, 0, 0, 0, 0, 0, 0, 0, 0, 0, 0, 0, 0,\n",
       "       0, 0, 0, 0, 0, 0, 0, 0, 0, 0, 0, 0, 0, 0, 0, 0, 0, 0, 0, 0, 0, 0,\n",
       "       0, 0, 0, 0, 0, 0, 0, 0, 0, 0, 0, 0, 0, 0, 0, 0, 0, 0, 0, 0, 0, 0,\n",
       "       0, 0, 0, 0, 0, 0, 0, 0, 0, 0, 0, 0, 0, 0, 0, 0, 0, 0, 0, 0, 0, 0,\n",
       "       0, 0, 0, 0, 0, 0, 0, 0, 0, 0, 0, 0, 0, 0, 0, 0, 0, 0, 0, 0, 0, 0,\n",
       "       0, 0, 0, 0, 0, 0, 0, 0, 0, 0, 0, 0, 0, 0, 0, 0, 0, 0, 0, 0, 0, 0,\n",
       "       0, 0, 0, 0, 0, 0, 0, 0, 0, 0, 0, 0, 0, 0, 0, 0, 0, 0, 0, 0, 0, 0,\n",
       "       0, 0, 0, 0, 0, 0, 0, 0, 0, 0, 0, 0, 0, 0, 0, 0, 0, 0, 0, 0, 0, 0,\n",
       "       0, 0, 1, 0, 0, 0, 0, 0, 0, 0, 0, 0, 0, 0, 0, 0, 0, 0, 0, 0, 0, 0,\n",
       "       0, 0, 0, 0, 0, 0, 0, 0, 0, 0, 0, 0, 0, 0, 0, 0, 0, 0, 0, 0, 0, 0,\n",
       "       0, 0, 0, 0, 0, 0, 0, 0, 0, 0, 0, 0, 0, 0, 0, 0, 0, 0, 0, 0, 0, 0,\n",
       "       0, 0, 0, 0, 0, 0, 0, 0, 0, 0, 0, 0, 0, 0, 0, 0, 0, 0, 0, 0, 0, 0,\n",
       "       0, 0, 0, 0, 0, 0, 0, 0, 0, 0, 0, 0, 0, 0, 0, 0, 0, 0, 0, 0, 0, 0,\n",
       "       0, 0, 0, 0, 0, 0, 0, 0, 0, 0, 0, 0, 0, 0, 0, 0, 0, 0, 0, 0, 0, 0,\n",
       "       0, 0, 0, 0, 0, 0, 0, 0, 0, 0, 0, 0, 0, 0, 0, 0, 0, 0, 0, 0, 0, 0,\n",
       "       0, 0, 0, 0, 0, 0, 0, 0, 0, 0, 0, 0, 0, 0, 0, 0, 0, 0, 0, 0, 0, 0,\n",
       "       0, 0, 0, 0, 0, 0, 0, 0, 0, 0, 0, 0, 0, 0, 0, 0, 0, 0, 0, 0, 0, 0,\n",
       "       0, 0, 0, 0, 0, 0, 0, 0, 0, 0, 0, 0, 0, 0, 0, 0, 0, 0, 0, 0, 0, 0,\n",
       "       0, 0, 0, 0, 0, 0, 0, 0, 0, 0, 0, 0, 0, 0, 0, 0, 0, 0, 0, 0, 0, 0,\n",
       "       0, 0, 0, 0, 0, 0, 0, 0, 0, 0, 0, 0, 0, 0, 0, 0, 0, 0, 0, 0, 0, 0,\n",
       "       0, 0, 0, 0, 0, 0, 0, 0, 0, 0, 0, 0, 0, 0, 0, 0, 0, 0, 0, 0, 0, 0,\n",
       "       0, 0, 0, 0, 1, 0, 0, 0, 0, 0, 0, 0, 0, 0, 0, 0, 0, 0, 0, 0, 0, 0,\n",
       "       0, 0, 0, 0, 0, 0, 0, 0, 0, 0, 0, 1, 0, 0, 0, 0, 0, 0, 0, 0, 0, 0,\n",
       "       0, 0, 0, 0, 0, 0, 0, 0, 0, 0, 0, 0, 0, 0, 0, 0, 0, 0, 0, 0, 0, 0,\n",
       "       0, 0, 0, 0, 0, 0, 0, 0, 0, 0, 0, 0, 0, 0, 0, 0, 0, 0, 0, 0, 0, 0,\n",
       "       0, 0, 0, 0, 0, 0, 0, 0, 0, 0, 0, 0, 0, 0, 0, 0, 0, 0, 1, 0, 0, 0,\n",
       "       0, 0, 0, 0, 0, 0, 0, 0, 0, 0, 0, 0, 0, 0, 0, 0, 0, 0, 0, 0, 0, 0,\n",
       "       0, 0, 0, 0, 0, 0, 0, 0, 0, 0, 0, 0, 0, 0, 0, 0, 0, 0, 0, 0, 0, 0,\n",
       "       1, 0, 0, 0, 0, 0, 0, 0, 0, 0, 0, 0, 0, 0, 0, 0, 0, 0, 0, 0, 0, 0,\n",
       "       0, 0, 0, 0, 0, 0, 0, 0, 0, 0, 0, 0, 0, 0, 0, 0, 0, 0, 0, 0, 0, 0,\n",
       "       0, 0, 0, 0, 0, 0, 0, 0, 0, 0, 0, 0, 0, 0, 0, 0, 0, 0, 0, 0, 0, 0,\n",
       "       0, 0, 0, 0, 0, 0, 0, 0, 0, 0, 0, 0, 0, 0, 0, 0, 0, 0, 0, 0, 0, 0,\n",
       "       0, 0, 0, 0, 0, 0, 0, 0, 0, 0, 0, 0, 0, 0, 0, 0, 0, 0, 0, 0, 0, 0,\n",
       "       0, 0, 0, 0, 0, 0, 0, 0, 0, 0, 0, 0, 0, 0, 0, 0, 0, 0, 0, 0, 0, 0,\n",
       "       0, 0, 0, 0, 0, 0, 0, 0, 0, 0, 0, 0, 0, 0, 0, 0, 0, 0, 0, 0, 0, 0,\n",
       "       0, 0, 0, 0, 0, 0, 0, 0, 0, 0, 0, 0, 0, 0, 0, 0, 0, 0, 0, 0, 0, 0,\n",
       "       0, 0, 0, 0, 0, 0, 0, 0, 0, 0, 0, 0, 0, 0, 0, 0, 0, 0, 0, 0, 0, 0,\n",
       "       0, 0, 0, 0, 0, 0, 0, 0, 0, 0, 0, 0, 0, 0, 0, 0, 0, 0, 0, 0, 0, 0,\n",
       "       0, 0, 0, 0, 0, 0, 0, 0, 0, 0, 0, 0, 0, 0, 0, 0, 0, 0, 0, 0, 0, 0,\n",
       "       0, 0, 0, 0, 0, 0, 0, 0, 0, 0, 0, 0, 0, 0, 0, 0, 0, 0, 0, 0, 0, 0,\n",
       "       0, 0, 0, 0, 0, 1, 0, 0, 0, 0, 0, 0, 0, 0, 0, 0, 0, 0, 0, 0, 0, 0,\n",
       "       0, 0, 0, 0, 0, 0, 0, 0, 0, 0, 0, 0, 0, 0, 0, 0, 0, 0, 0, 0, 0, 0,\n",
       "       0, 0, 0, 0, 0, 0, 0, 0, 0, 0, 0, 0, 0, 0, 0, 0, 0, 0, 0, 0, 0, 0,\n",
       "       0, 0, 0, 0, 0, 0, 0, 0, 0, 0, 0, 0, 0, 0, 0, 0, 0, 0, 0, 0, 0, 0,\n",
       "       0, 0, 0, 0, 0, 0, 0, 0, 0, 0, 0, 0, 0, 0, 0, 0, 0, 0, 0, 0, 0, 0,\n",
       "       0, 0, 0, 0, 0, 0, 0, 0, 0, 0, 0, 0, 0, 0, 0, 0, 0, 0, 0, 0, 0, 0,\n",
       "       0, 0, 0, 0, 0, 0, 0, 0, 0, 0, 0, 0, 0, 0, 0, 0, 0, 0, 0, 0, 0, 0,\n",
       "       0, 0, 0, 0, 0, 0, 0, 0, 0, 0, 0, 0, 0, 0, 0, 0, 0, 0, 0, 0, 0, 0,\n",
       "       0, 0, 0, 0, 0, 0, 0, 0, 0, 0, 0, 0, 0, 0, 0, 0, 0, 0, 0, 0, 0, 0,\n",
       "       0, 0, 0, 0, 0, 0, 0, 0, 0, 0, 0, 0, 0, 0, 0, 0, 0, 0, 0, 0, 0, 0,\n",
       "       0, 0, 0, 0, 0, 0, 0, 0, 0, 0, 0, 0, 0, 0, 0, 0, 0, 0, 0, 0, 0, 0,\n",
       "       0, 0, 0, 0, 0, 0, 0, 0, 0, 0, 0, 0, 0, 0, 0, 0, 0, 0, 0, 0, 0, 0,\n",
       "       0, 0, 0, 0, 0, 0, 0, 0, 0, 0, 0, 0, 0, 0, 0, 0, 0, 0, 0, 0, 0, 0,\n",
       "       0, 0, 0, 0, 0, 0, 0, 0, 0, 0, 0, 1, 0, 0, 0, 0, 0, 0, 0, 0, 0, 0,\n",
       "       0, 0, 0, 0, 0, 0, 0, 0, 0, 0, 0, 0, 0, 0, 0, 0, 0, 0, 0, 0, 0, 0,\n",
       "       0, 0, 0, 0, 0, 0, 0, 0, 0, 0, 0, 0, 0, 0, 0, 0, 0, 0, 0, 0, 0, 0,\n",
       "       0, 0, 0, 0, 0, 0, 0, 0, 0, 0, 0, 0, 0, 0, 0, 0, 0, 0, 0, 0, 0, 0,\n",
       "       0, 0, 0, 0, 0, 0, 0, 0, 0, 0, 0, 0, 0, 0, 0, 0, 0, 0, 0, 0, 0, 0,\n",
       "       0, 0, 0, 0, 0, 0, 0, 0, 0, 1, 0, 0, 0, 0, 0, 0, 0, 0, 0, 0, 0, 0,\n",
       "       0, 0, 0, 0, 0, 0, 0, 0, 0, 0, 0, 0, 0, 0, 0, 0, 0, 0, 0, 0, 0, 0,\n",
       "       0, 0, 0, 0, 0, 0, 0, 0, 0, 0, 0, 0, 0, 0, 0, 0, 0, 0, 0, 0, 0, 0,\n",
       "       0, 0, 0, 0, 0, 0, 0, 0, 0, 0, 0, 0, 0, 0, 0, 0, 0, 0, 0, 0, 0, 0,\n",
       "       0, 0, 0, 0, 0, 0, 0, 0, 0, 0, 0, 0, 0, 0, 0, 0, 0, 0, 0, 0, 0, 0,\n",
       "       0, 0, 0, 0, 0, 0, 0, 0, 0, 0, 0, 0, 0, 0, 0, 0, 0, 0, 0, 0, 0, 0,\n",
       "       0, 0, 0, 0, 0, 0, 0, 0, 0, 0, 0, 0, 1, 0, 0, 0, 0, 0, 0, 0, 0, 0,\n",
       "       0, 0, 0, 0, 0, 0, 0, 0, 0, 0, 0, 0, 0, 0, 0, 0, 0, 0, 0, 0, 0, 0,\n",
       "       0, 0, 0, 0, 0, 0, 0, 0, 0, 0, 0, 0, 0, 0, 0, 0, 0, 0, 0, 0, 0, 0,\n",
       "       0, 0, 0, 0, 0, 0, 0, 0, 0, 0, 0, 0, 0, 0, 0, 0, 0, 0, 0, 0, 0, 0,\n",
       "       0, 0, 0, 0, 0, 0, 0, 0, 0, 0, 0, 0, 0, 0, 0, 0, 0, 0, 0, 0, 0, 0,\n",
       "       0, 0, 0, 0, 0, 0, 0, 0, 0, 0, 0, 0, 0, 0, 0, 0, 0, 0, 0, 0, 0, 0,\n",
       "       0, 0, 0, 0, 0, 0, 0, 0, 0, 0, 0, 0, 0, 0, 0, 0, 0, 0, 0, 0, 0, 0,\n",
       "       0, 0, 0, 0, 0, 0, 0, 0, 0, 0, 0, 0, 0, 0, 0, 0, 0, 0, 0, 0, 0, 0,\n",
       "       0, 0, 0, 0, 0, 0, 0, 0, 0, 0, 0, 0, 0, 0, 0, 0, 0, 0, 0, 0, 0, 0,\n",
       "       0, 0, 0, 0, 0, 0, 0, 0, 0, 0, 0, 0, 0, 0, 0, 0, 0, 0, 0, 0, 0, 0,\n",
       "       0, 0, 0, 0, 0, 0, 0, 0, 0, 0, 0, 0, 0, 0, 0, 0, 0, 0, 0, 0, 0, 0,\n",
       "       0, 0, 0, 0, 0, 0, 0, 0, 0, 0, 0, 0, 0, 0, 0, 0, 0, 0, 1, 0, 0, 0,\n",
       "       0, 0, 0, 0, 0, 0, 0, 0, 0, 0, 0, 0, 0, 0, 0, 0, 0, 0, 0, 0, 0, 0,\n",
       "       0, 0, 0, 0, 0, 0, 0, 0, 0, 0, 0, 0, 0, 0, 0, 0, 0, 0, 0, 0, 0, 0,\n",
       "       0, 0, 0, 0, 0, 0, 0, 0, 0, 0, 0, 0, 0, 0, 0, 0, 0, 0, 0, 0, 0, 0,\n",
       "       0, 0, 0, 0, 0, 0, 0, 0, 0, 0, 0, 0, 0, 0, 0, 0, 0, 0, 0, 0, 1, 0,\n",
       "       0, 0, 0, 0, 0, 0, 0, 0, 0, 0, 0, 0, 0, 0, 0, 0, 0, 0, 0, 0, 0, 0,\n",
       "       0, 0, 0, 0, 0, 0, 0, 0, 0, 0, 0, 0, 0, 0, 0, 0, 0, 0, 0, 0, 0, 0,\n",
       "       0, 0, 0, 0, 0, 0, 0, 0, 0, 0, 0, 0, 0, 0, 0, 0, 0, 0, 0, 0, 0, 0,\n",
       "       0, 0, 0, 0, 0, 0, 0, 0, 0, 0, 0, 0, 0, 0, 0, 0, 0, 0, 0, 0, 0, 0,\n",
       "       0, 0, 0, 0, 0, 0, 0, 0, 0, 0, 0, 0, 0, 0, 0, 0, 0, 0, 0, 0, 0, 0,\n",
       "       0, 0, 0, 0, 0, 0, 0, 0, 0, 0, 0, 0, 0, 0, 0, 0, 0, 0, 0, 0, 0, 0,\n",
       "       0, 0, 0, 0, 0, 0, 0, 0, 0, 0, 0, 0, 0, 0, 0, 0, 0, 0, 0, 0, 0, 0,\n",
       "       0, 0, 0, 0, 0, 0, 0, 0, 0, 0, 0, 0, 0, 0, 0, 0, 0, 0, 0, 0, 0, 0,\n",
       "       0, 0, 0, 0, 0, 0, 0, 0, 0, 0, 0, 0, 0, 0, 0, 0, 0, 0, 0, 0, 0, 0,\n",
       "       0, 0, 0, 0, 0, 0, 0, 0, 0, 0, 0, 0, 0, 0, 0, 0, 0, 0, 0, 0, 0, 0,\n",
       "       0, 0, 0, 0, 0, 0, 0, 0, 0, 0, 0, 0, 0, 0, 0, 0, 0, 0, 0, 0, 0, 0,\n",
       "       0, 0, 0, 0, 0, 0, 0, 0, 0, 0, 0, 0, 0, 0, 0, 0, 0, 0, 0, 0, 0, 0,\n",
       "       0, 0, 0, 0, 0, 0, 0, 0, 0, 0, 0, 0, 0, 0, 0, 0, 0, 0, 0, 0, 0, 0,\n",
       "       0, 0, 0, 0, 0, 0, 0, 0, 0, 0, 0, 0, 0, 0, 0, 0, 0, 0, 0, 0, 0, 0,\n",
       "       0, 0, 0, 0, 0, 0, 0, 0, 0, 0, 0, 0, 0, 0, 0, 0, 0, 0, 0, 0, 0, 0,\n",
       "       0, 0, 0, 0, 0, 0, 0, 0, 0, 0, 0, 0, 0, 0, 0, 0, 0, 0, 0, 0, 0, 0,\n",
       "       0, 0, 0, 0, 0, 0, 0, 0, 0, 0, 0, 0, 0, 0, 0, 0, 0, 0, 0, 0, 0, 0,\n",
       "       0, 0, 0, 0, 0, 0, 0, 0, 0, 0, 0, 0, 0, 0, 0, 0, 0, 0, 0, 0, 0, 0,\n",
       "       0, 0, 0, 0, 0, 0, 0, 0, 0, 0, 0, 0, 0, 0, 0, 0, 0, 0, 0, 0, 0, 0,\n",
       "       0, 0, 0, 0, 0, 0, 0, 0, 0, 0, 0, 0, 0, 0, 0, 0, 0, 0, 0, 0, 0, 0,\n",
       "       0, 0, 0, 0, 0, 0, 0, 0, 0, 0, 0, 0, 0, 0, 0, 0, 0, 0, 0, 0, 0, 0,\n",
       "       0, 0, 0, 0, 0, 0, 0, 0, 0, 0, 0, 0, 0, 0, 0, 0, 0, 0, 0, 0, 0, 0,\n",
       "       0, 0, 0, 0, 0, 0, 0, 0, 0, 0, 0, 0, 0, 0, 0, 0, 0, 0, 0, 0, 0, 0,\n",
       "       0, 0, 0, 0, 0, 0, 0, 0, 0, 0, 0, 0, 0, 0, 0, 0, 0, 0, 0, 0, 0, 0,\n",
       "       0, 0, 0, 0, 0, 0, 0, 0, 0, 0, 0, 0, 0, 0, 0, 0, 0, 0, 0, 0, 0, 0,\n",
       "       0, 0, 0, 0, 0, 0, 0, 0, 0, 0, 0, 0, 0, 0, 0, 0, 0, 0, 0, 0, 0, 0,\n",
       "       0, 0, 0, 0, 0, 0, 0, 0, 0, 0, 0, 0, 0, 0, 0, 0, 0, 0, 0, 0, 0, 0,\n",
       "       0, 0, 0, 0, 0, 0, 0, 0, 0, 0, 0, 0, 0, 0, 0, 0, 0, 0, 0, 0, 0, 0,\n",
       "       0, 0, 0, 0, 0, 0, 0, 0, 0, 0, 0, 0, 0, 0, 0, 0, 0, 0, 0, 0, 0, 0,\n",
       "       0, 0, 0, 0, 0, 0, 0, 0, 0, 0, 0, 0, 0, 0, 0, 0, 0, 0, 0, 0, 0, 0,\n",
       "       0, 0, 0, 0, 0, 0, 0, 0, 0, 0, 0, 0, 0, 0, 1, 0, 0, 0, 0, 0, 0, 0,\n",
       "       0, 0, 0, 0, 0, 0, 0, 0, 0, 0, 0, 0, 0, 0, 0, 0, 0, 0, 0, 0, 0, 0,\n",
       "       0, 0, 0, 0, 0, 0, 0, 0, 0, 0, 0, 0, 0, 0, 0, 0, 0, 0, 0, 0, 0, 0,\n",
       "       0, 0, 0, 0, 0, 0, 0, 0, 0, 0, 0, 0, 0, 0, 0, 0, 0, 0, 0, 0, 0, 0,\n",
       "       0, 0, 0, 0, 0, 0, 0, 0, 0, 0, 0, 0, 0, 0, 0, 0, 0, 0, 0, 0, 0, 0,\n",
       "       0, 0, 0, 0, 0, 0, 0, 0, 0, 0, 0, 0, 0, 0, 0, 0, 0, 0, 0, 0, 0, 0,\n",
       "       0, 0, 0, 0, 0, 0, 0, 0, 0, 0, 0, 0, 0, 0, 0, 0, 0, 0, 0, 0, 0, 0,\n",
       "       0, 0, 0, 0, 0, 0, 0, 0, 0, 0, 0, 0, 0, 0, 0, 0, 1, 0, 0, 0, 0, 0,\n",
       "       0, 0, 0, 0, 0, 0, 0, 0, 0, 0, 0, 0, 0, 0, 0, 0, 0, 0, 0, 0, 0, 0,\n",
       "       0, 0, 0, 0, 0, 0, 0, 0, 0, 0, 0, 0, 0, 0, 0, 0, 0, 0, 0, 0, 0, 0,\n",
       "       0, 0, 0, 0, 0, 0, 0, 0, 0, 0, 0, 0, 0, 0, 0, 0, 0, 0, 0, 0, 0, 0,\n",
       "       0, 0, 0, 0, 0, 0, 0, 0, 0, 0, 0, 0, 0, 0, 0, 0, 0, 0, 0, 0, 0, 0,\n",
       "       0, 0, 0, 0, 0, 0, 0, 0, 0, 0, 0, 0, 0, 0, 0, 0, 0, 0, 0, 0, 0, 0,\n",
       "       0, 0, 0, 0, 0, 0, 0, 0, 0, 0, 0, 0, 0, 0, 0, 0, 0, 0, 0, 0, 0, 0,\n",
       "       0, 0, 0, 0, 0, 0, 0, 0, 0, 0, 0, 0, 0, 0, 0, 0, 0, 0, 0, 0, 0, 0,\n",
       "       0, 0, 0, 0, 0, 0, 0, 0, 0, 0, 0, 0, 0, 0, 0, 0, 0, 0, 0, 0, 0, 0,\n",
       "       0, 0, 0, 0, 0, 0, 0, 0, 0, 0, 0, 0, 0, 0, 0, 0, 0, 0, 0, 0, 0, 0,\n",
       "       0, 0, 0, 0, 0, 0, 0, 0, 0, 0, 0, 0, 0, 0, 0, 0, 0, 0, 0, 0, 0, 0,\n",
       "       0, 0, 0, 0, 0, 0, 0, 0, 0, 0, 0, 0, 0, 0, 0, 0, 0, 0, 0, 0, 0, 0,\n",
       "       0, 0, 0, 0, 0, 0, 0, 0, 0, 0, 0, 0, 0, 0, 0, 0, 0, 0, 0, 0, 0, 0,\n",
       "       0, 0, 0, 0, 0, 0, 0, 0, 0, 0, 0, 0, 0, 0, 0, 0, 0, 0, 0, 0, 0, 0,\n",
       "       0, 0, 0, 0, 0, 0, 0, 0, 0, 0, 0, 0, 0, 0, 0, 0, 0, 0, 0, 0, 0, 0,\n",
       "       0, 0, 0, 0, 0, 0, 0, 0, 0, 0, 0, 0, 0, 0, 0, 0, 0, 0, 0, 0, 0, 0,\n",
       "       0, 0, 0, 0, 0, 0, 0, 0, 0, 0, 0, 0, 0, 0, 0, 0, 0, 0, 0, 0, 0, 0,\n",
       "       0, 0, 0, 0, 0, 0, 0, 0, 0, 0, 0, 0, 0, 0, 0, 0, 0, 0, 0, 0, 0, 0,\n",
       "       0, 0, 0, 0, 0, 0, 0, 0, 0, 0, 0, 0, 0, 0, 0, 0, 0, 0, 0, 0, 0, 0,\n",
       "       0, 0, 0, 0, 0, 0, 0, 0, 0, 0, 0, 0, 0, 0, 0, 0, 0, 0, 0, 0, 0, 0,\n",
       "       0, 0, 0, 0, 0, 0, 0, 0, 0, 0, 0, 0, 0, 0, 0, 0, 0, 0, 0, 0, 0, 0,\n",
       "       0, 0, 0, 0, 0, 0, 0, 0, 0, 0, 0, 0, 0, 0, 0, 0, 0, 0, 0, 0, 0, 0,\n",
       "       0, 0, 0, 0, 0, 0, 0, 0, 0, 0, 0, 0, 0, 0, 0, 0, 0, 0, 0, 0, 0, 0,\n",
       "       0, 0, 0, 0, 0, 0, 0, 0, 0, 0, 0, 0, 0, 0, 0, 0, 0, 0, 0, 0, 0, 0,\n",
       "       0, 0, 0, 0, 0, 0, 0, 0, 0, 0, 0, 0, 0, 0, 0, 0, 0, 0, 0, 0, 0, 0,\n",
       "       0, 0, 0, 0, 0, 0, 0, 0, 0, 0, 0, 0, 0, 0, 0, 0, 0, 0, 0, 0, 0, 0,\n",
       "       0, 0, 0, 0, 0, 0, 0, 0, 0, 0, 0, 0, 0, 0, 0, 1, 0, 0, 0, 0, 0, 0,\n",
       "       0, 0, 0, 0, 0, 0, 0, 0, 0, 0, 0, 0, 0, 0, 0, 0, 0, 0, 0, 0, 0, 0,\n",
       "       0, 0, 0, 0, 0, 0, 0, 0, 0, 0, 0, 0, 0, 0, 0, 0, 0, 0, 0, 0, 0, 0,\n",
       "       0, 0, 0, 0, 0, 0, 0, 0, 0, 0, 0, 0, 0, 0, 0, 0, 0, 0, 0, 0, 0, 0,\n",
       "       0, 0, 0, 0, 0, 0, 0, 0, 0, 0, 0, 0, 0, 0, 0, 0, 0, 0, 0, 0, 0, 0,\n",
       "       0, 0, 0, 0, 0, 0, 0, 0, 0, 0, 0, 0, 0, 0, 0, 0, 0, 0, 0, 0, 0, 0,\n",
       "       0, 0, 0, 0, 0, 0, 0, 0, 0, 0, 0, 0, 0, 0, 0, 0, 0, 0, 0, 0, 0, 0,\n",
       "       0, 0, 0, 0, 0, 0, 0, 0, 0, 0, 0, 0, 0, 0, 0, 0, 0, 0, 0, 0, 0, 0,\n",
       "       0, 0, 0, 0, 0, 0, 0, 0, 0, 0, 0, 0, 0, 0, 0, 0, 0, 0, 0, 0, 0, 0,\n",
       "       0, 0, 0, 0, 0, 0, 0, 0, 0, 0, 3, 0, 0, 0, 0, 0, 0, 0, 0, 0, 0, 0,\n",
       "       0, 0, 0, 0, 0, 0, 0, 0, 0, 0, 0, 0, 0, 0, 0, 0, 0, 0, 0, 0, 0, 0,\n",
       "       0, 0, 0, 0], dtype=int64)"
      ]
     },
     "execution_count": 83,
     "metadata": {},
     "output_type": "execute_result"
    }
   ],
   "source": [
    "X_train_np[0]"
   ]
  },
  {
   "cell_type": "markdown",
   "id": "c2868638",
   "metadata": {},
   "source": [
    "Multinomial Naive Bayes sınıflandırma modelini eğitmek üzere Scikit-Learn kütüphanesindeki MultinomialNB sınıfını kullanmaktadır."
   ]
  },
  {
   "cell_type": "code",
   "execution_count": 101,
   "id": "5ed537db",
   "metadata": {},
   "outputs": [
    {
     "data": {
      "text/html": [
       "<style>#sk-container-id-4 {color: black;}#sk-container-id-4 pre{padding: 0;}#sk-container-id-4 div.sk-toggleable {background-color: white;}#sk-container-id-4 label.sk-toggleable__label {cursor: pointer;display: block;width: 100%;margin-bottom: 0;padding: 0.3em;box-sizing: border-box;text-align: center;}#sk-container-id-4 label.sk-toggleable__label-arrow:before {content: \"▸\";float: left;margin-right: 0.25em;color: #696969;}#sk-container-id-4 label.sk-toggleable__label-arrow:hover:before {color: black;}#sk-container-id-4 div.sk-estimator:hover label.sk-toggleable__label-arrow:before {color: black;}#sk-container-id-4 div.sk-toggleable__content {max-height: 0;max-width: 0;overflow: hidden;text-align: left;background-color: #f0f8ff;}#sk-container-id-4 div.sk-toggleable__content pre {margin: 0.2em;color: black;border-radius: 0.25em;background-color: #f0f8ff;}#sk-container-id-4 input.sk-toggleable__control:checked~div.sk-toggleable__content {max-height: 200px;max-width: 100%;overflow: auto;}#sk-container-id-4 input.sk-toggleable__control:checked~label.sk-toggleable__label-arrow:before {content: \"▾\";}#sk-container-id-4 div.sk-estimator input.sk-toggleable__control:checked~label.sk-toggleable__label {background-color: #d4ebff;}#sk-container-id-4 div.sk-label input.sk-toggleable__control:checked~label.sk-toggleable__label {background-color: #d4ebff;}#sk-container-id-4 input.sk-hidden--visually {border: 0;clip: rect(1px 1px 1px 1px);clip: rect(1px, 1px, 1px, 1px);height: 1px;margin: -1px;overflow: hidden;padding: 0;position: absolute;width: 1px;}#sk-container-id-4 div.sk-estimator {font-family: monospace;background-color: #f0f8ff;border: 1px dotted black;border-radius: 0.25em;box-sizing: border-box;margin-bottom: 0.5em;}#sk-container-id-4 div.sk-estimator:hover {background-color: #d4ebff;}#sk-container-id-4 div.sk-parallel-item::after {content: \"\";width: 100%;border-bottom: 1px solid gray;flex-grow: 1;}#sk-container-id-4 div.sk-label:hover label.sk-toggleable__label {background-color: #d4ebff;}#sk-container-id-4 div.sk-serial::before {content: \"\";position: absolute;border-left: 1px solid gray;box-sizing: border-box;top: 0;bottom: 0;left: 50%;z-index: 0;}#sk-container-id-4 div.sk-serial {display: flex;flex-direction: column;align-items: center;background-color: white;padding-right: 0.2em;padding-left: 0.2em;position: relative;}#sk-container-id-4 div.sk-item {position: relative;z-index: 1;}#sk-container-id-4 div.sk-parallel {display: flex;align-items: stretch;justify-content: center;background-color: white;position: relative;}#sk-container-id-4 div.sk-item::before, #sk-container-id-4 div.sk-parallel-item::before {content: \"\";position: absolute;border-left: 1px solid gray;box-sizing: border-box;top: 0;bottom: 0;left: 50%;z-index: -1;}#sk-container-id-4 div.sk-parallel-item {display: flex;flex-direction: column;z-index: 1;position: relative;background-color: white;}#sk-container-id-4 div.sk-parallel-item:first-child::after {align-self: flex-end;width: 50%;}#sk-container-id-4 div.sk-parallel-item:last-child::after {align-self: flex-start;width: 50%;}#sk-container-id-4 div.sk-parallel-item:only-child::after {width: 0;}#sk-container-id-4 div.sk-dashed-wrapped {border: 1px dashed gray;margin: 0 0.4em 0.5em 0.4em;box-sizing: border-box;padding-bottom: 0.4em;background-color: white;}#sk-container-id-4 div.sk-label label {font-family: monospace;font-weight: bold;display: inline-block;line-height: 1.2em;}#sk-container-id-4 div.sk-label-container {text-align: center;}#sk-container-id-4 div.sk-container {/* jupyter's `normalize.less` sets `[hidden] { display: none; }` but bootstrap.min.css set `[hidden] { display: none !important; }` so we also need the `!important` here to be able to override the default hidden behavior on the sphinx rendered scikit-learn.org. See: https://github.com/scikit-learn/scikit-learn/issues/21755 */display: inline-block !important;position: relative;}#sk-container-id-4 div.sk-text-repr-fallback {display: none;}</style><div id=\"sk-container-id-4\" class=\"sk-top-container\"><div class=\"sk-text-repr-fallback\"><pre>MultinomialNB()</pre><b>In a Jupyter environment, please rerun this cell to show the HTML representation or trust the notebook. <br />On GitHub, the HTML representation is unable to render, please try loading this page with nbviewer.org.</b></div><div class=\"sk-container\" hidden><div class=\"sk-item\"><div class=\"sk-estimator sk-toggleable\"><input class=\"sk-toggleable__control sk-hidden--visually\" id=\"sk-estimator-id-8\" type=\"checkbox\" checked><label for=\"sk-estimator-id-8\" class=\"sk-toggleable__label sk-toggleable__label-arrow\">MultinomialNB</label><div class=\"sk-toggleable__content\"><pre>MultinomialNB()</pre></div></div></div></div></div>"
      ],
      "text/plain": [
       "MultinomialNB()"
      ]
     },
     "execution_count": 101,
     "metadata": {},
     "output_type": "execute_result"
    }
   ],
   "source": [
    "from sklearn.naive_bayes import MultinomialNB\n",
    "# Multinomial Naive Bayes sınıflandırma modelini oluşturma\n",
    "model=MultinomialNB()\n",
    "\n",
    "# Eğitim verilerini ve etiketleri kullanarak modeli eğitme\n",
    "model.fit(X_train_cv, y_train)"
   ]
  },
  {
   "cell_type": "markdown",
   "id": "b6f569ae",
   "metadata": {},
   "source": [
    " Eğitim süreci boyunca, model sınıflandırma algoritmasını öğrenir ve daha sonra yeni, görülmemiş metin verilerini sınıflandırmak için kullanılabilir."
   ]
  },
  {
   "cell_type": "code",
   "execution_count": 70,
   "id": "65a07484",
   "metadata": {},
   "outputs": [],
   "source": [
    "X_test_cv = v.transform(X_test)"
   ]
  },
  {
   "cell_type": "code",
   "execution_count": 72,
   "id": "dd55dfd5",
   "metadata": {},
   "outputs": [
    {
     "name": "stdout",
     "output_type": "stream",
     "text": [
      "              precision    recall  f1-score   support\n",
      "\n",
      "           0       0.99      1.00      0.99       964\n",
      "           1       0.97      0.92      0.95       151\n",
      "\n",
      "    accuracy                           0.99      1115\n",
      "   macro avg       0.98      0.96      0.97      1115\n",
      "weighted avg       0.99      0.99      0.99      1115\n",
      "\n"
     ]
    }
   ],
   "source": [
    "from sklearn.metrics import classification_report\n",
    "\n",
    "y_pred = model.predict(X_test_cv)\n",
    "\n",
    "print(classification_report(y_test,y_pred))"
   ]
  },
  {
   "cell_type": "code",
   "execution_count": 76,
   "id": "bca8a866",
   "metadata": {},
   "outputs": [
    {
     "data": {
      "text/plain": [
       "array([1, 0, 0, 1], dtype=int64)"
      ]
     },
     "execution_count": 76,
     "metadata": {},
     "output_type": "execute_result"
    }
   ],
   "source": [
    "email= [\n",
    "    'This is the 2nd time we have tried 2 contact u. U have won the Â£750 Pound prize. 2 claim is easy, call 087187272008 NOW1! Only 10p per minute. BT-national-rate.',\n",
    "    'Rofl. Its true to its name',\n",
    "    'Merhaba, bu bir örnek e-postadır. Umarım iyisindir.',\n",
    "    '%50 indirimli ürünler sizi bekliyor.'\n",
    "]\n",
    "\n",
    "email_count = v.transform(email)\n",
    "model.predict(email_count)"
   ]
  },
  {
   "cell_type": "code",
   "execution_count": 99,
   "id": "cbc02cdc",
   "metadata": {},
   "outputs": [],
   "source": [
    "from sklearn.pipeline import Pipeline\n",
    "\n",
    "# CountVectorizer ve MultinomialNB'yi birleştiren bir Pipeline oluşturma\n",
    "clf=Pipeline([\n",
    "    ('vectorizer',CountVectorizer()), # Metin verilerini vektörlere dönüştürme adımı\n",
    "    ('nb', MultinomialNB())  # Multinomial Naive Bayes sınıflandırma adımı\n",
    "])"
   ]
  },
  {
   "cell_type": "code",
   "execution_count": 100,
   "id": "8aa4e353",
   "metadata": {},
   "outputs": [
    {
     "data": {
      "text/html": [
       "<style>#sk-container-id-3 {color: black;}#sk-container-id-3 pre{padding: 0;}#sk-container-id-3 div.sk-toggleable {background-color: white;}#sk-container-id-3 label.sk-toggleable__label {cursor: pointer;display: block;width: 100%;margin-bottom: 0;padding: 0.3em;box-sizing: border-box;text-align: center;}#sk-container-id-3 label.sk-toggleable__label-arrow:before {content: \"▸\";float: left;margin-right: 0.25em;color: #696969;}#sk-container-id-3 label.sk-toggleable__label-arrow:hover:before {color: black;}#sk-container-id-3 div.sk-estimator:hover label.sk-toggleable__label-arrow:before {color: black;}#sk-container-id-3 div.sk-toggleable__content {max-height: 0;max-width: 0;overflow: hidden;text-align: left;background-color: #f0f8ff;}#sk-container-id-3 div.sk-toggleable__content pre {margin: 0.2em;color: black;border-radius: 0.25em;background-color: #f0f8ff;}#sk-container-id-3 input.sk-toggleable__control:checked~div.sk-toggleable__content {max-height: 200px;max-width: 100%;overflow: auto;}#sk-container-id-3 input.sk-toggleable__control:checked~label.sk-toggleable__label-arrow:before {content: \"▾\";}#sk-container-id-3 div.sk-estimator input.sk-toggleable__control:checked~label.sk-toggleable__label {background-color: #d4ebff;}#sk-container-id-3 div.sk-label input.sk-toggleable__control:checked~label.sk-toggleable__label {background-color: #d4ebff;}#sk-container-id-3 input.sk-hidden--visually {border: 0;clip: rect(1px 1px 1px 1px);clip: rect(1px, 1px, 1px, 1px);height: 1px;margin: -1px;overflow: hidden;padding: 0;position: absolute;width: 1px;}#sk-container-id-3 div.sk-estimator {font-family: monospace;background-color: #f0f8ff;border: 1px dotted black;border-radius: 0.25em;box-sizing: border-box;margin-bottom: 0.5em;}#sk-container-id-3 div.sk-estimator:hover {background-color: #d4ebff;}#sk-container-id-3 div.sk-parallel-item::after {content: \"\";width: 100%;border-bottom: 1px solid gray;flex-grow: 1;}#sk-container-id-3 div.sk-label:hover label.sk-toggleable__label {background-color: #d4ebff;}#sk-container-id-3 div.sk-serial::before {content: \"\";position: absolute;border-left: 1px solid gray;box-sizing: border-box;top: 0;bottom: 0;left: 50%;z-index: 0;}#sk-container-id-3 div.sk-serial {display: flex;flex-direction: column;align-items: center;background-color: white;padding-right: 0.2em;padding-left: 0.2em;position: relative;}#sk-container-id-3 div.sk-item {position: relative;z-index: 1;}#sk-container-id-3 div.sk-parallel {display: flex;align-items: stretch;justify-content: center;background-color: white;position: relative;}#sk-container-id-3 div.sk-item::before, #sk-container-id-3 div.sk-parallel-item::before {content: \"\";position: absolute;border-left: 1px solid gray;box-sizing: border-box;top: 0;bottom: 0;left: 50%;z-index: -1;}#sk-container-id-3 div.sk-parallel-item {display: flex;flex-direction: column;z-index: 1;position: relative;background-color: white;}#sk-container-id-3 div.sk-parallel-item:first-child::after {align-self: flex-end;width: 50%;}#sk-container-id-3 div.sk-parallel-item:last-child::after {align-self: flex-start;width: 50%;}#sk-container-id-3 div.sk-parallel-item:only-child::after {width: 0;}#sk-container-id-3 div.sk-dashed-wrapped {border: 1px dashed gray;margin: 0 0.4em 0.5em 0.4em;box-sizing: border-box;padding-bottom: 0.4em;background-color: white;}#sk-container-id-3 div.sk-label label {font-family: monospace;font-weight: bold;display: inline-block;line-height: 1.2em;}#sk-container-id-3 div.sk-label-container {text-align: center;}#sk-container-id-3 div.sk-container {/* jupyter's `normalize.less` sets `[hidden] { display: none; }` but bootstrap.min.css set `[hidden] { display: none !important; }` so we also need the `!important` here to be able to override the default hidden behavior on the sphinx rendered scikit-learn.org. See: https://github.com/scikit-learn/scikit-learn/issues/21755 */display: inline-block !important;position: relative;}#sk-container-id-3 div.sk-text-repr-fallback {display: none;}</style><div id=\"sk-container-id-3\" class=\"sk-top-container\"><div class=\"sk-text-repr-fallback\"><pre>Pipeline(steps=[(&#x27;vectorizer&#x27;, CountVectorizer()), (&#x27;nb&#x27;, MultinomialNB())])</pre><b>In a Jupyter environment, please rerun this cell to show the HTML representation or trust the notebook. <br />On GitHub, the HTML representation is unable to render, please try loading this page with nbviewer.org.</b></div><div class=\"sk-container\" hidden><div class=\"sk-item sk-dashed-wrapped\"><div class=\"sk-label-container\"><div class=\"sk-label sk-toggleable\"><input class=\"sk-toggleable__control sk-hidden--visually\" id=\"sk-estimator-id-5\" type=\"checkbox\" ><label for=\"sk-estimator-id-5\" class=\"sk-toggleable__label sk-toggleable__label-arrow\">Pipeline</label><div class=\"sk-toggleable__content\"><pre>Pipeline(steps=[(&#x27;vectorizer&#x27;, CountVectorizer()), (&#x27;nb&#x27;, MultinomialNB())])</pre></div></div></div><div class=\"sk-serial\"><div class=\"sk-item\"><div class=\"sk-estimator sk-toggleable\"><input class=\"sk-toggleable__control sk-hidden--visually\" id=\"sk-estimator-id-6\" type=\"checkbox\" ><label for=\"sk-estimator-id-6\" class=\"sk-toggleable__label sk-toggleable__label-arrow\">CountVectorizer</label><div class=\"sk-toggleable__content\"><pre>CountVectorizer()</pre></div></div></div><div class=\"sk-item\"><div class=\"sk-estimator sk-toggleable\"><input class=\"sk-toggleable__control sk-hidden--visually\" id=\"sk-estimator-id-7\" type=\"checkbox\" ><label for=\"sk-estimator-id-7\" class=\"sk-toggleable__label sk-toggleable__label-arrow\">MultinomialNB</label><div class=\"sk-toggleable__content\"><pre>MultinomialNB()</pre></div></div></div></div></div></div></div>"
      ],
      "text/plain": [
       "Pipeline(steps=[('vectorizer', CountVectorizer()), ('nb', MultinomialNB())])"
      ]
     },
     "execution_count": 100,
     "metadata": {},
     "output_type": "execute_result"
    }
   ],
   "source": [
    "clf.fit(X_train, y_train)"
   ]
  },
  {
   "cell_type": "code",
   "execution_count": 81,
   "id": "ba47d860",
   "metadata": {},
   "outputs": [
    {
     "name": "stdout",
     "output_type": "stream",
     "text": [
      "              precision    recall  f1-score   support\n",
      "\n",
      "           0       0.99      1.00      0.99       964\n",
      "           1       0.97      0.92      0.95       151\n",
      "\n",
      "    accuracy                           0.99      1115\n",
      "   macro avg       0.98      0.96      0.97      1115\n",
      "weighted avg       0.99      0.99      0.99      1115\n",
      "\n"
     ]
    }
   ],
   "source": [
    "y_pred=clf.predict(X_test)\n",
    "print(classification_report(y_test,y_pred))"
   ]
  },
  {
   "cell_type": "raw",
   "id": "84410ff5",
   "metadata": {},
   "source": [
    "Keras kütüphanesi üzerinden bir sinir ağı modeli oluşturma"
   ]
  },
  {
   "cell_type": "code",
   "execution_count": null,
   "id": "5b058ff9",
   "metadata": {},
   "outputs": [],
   "source": [
    "from keras import models\n",
    "from keras import layers\n",
    "\n",
    "network = models.Sequential() #bir seri model oluşturulur.\n",
    "network.add(layers.Dense(12, activation='relu', input_shape=(7768,)))\n",
    "#lk katman (gizli katman) eklenir. Bu katman, 12 nörona sahiptir, \n",
    "#ReLU aktivasyon fonksiyonu kullanır ve giriş şekli 7768'dir.\n",
    "network.add(layers.Dense(1, activation='sigmoid'))\n",
    "#ikinci katman (çıkış katmanı) eklenir. Bu katman, tek bir nörona sahiptir \n",
    "#ve sigmoid aktivasyon fonksiyonunu kullanır.\n",
    "network.compile(optimizer='rmsprop',\n",
    "                loss='binary_crossentropy',\n",
    "                metrics=['accuracy'])\n",
    "network.fit(X_train_np, y_train, epochs=30, batch_size=10)"
   ]
  }
 ],
 "metadata": {
  "kernelspec": {
   "display_name": "Python 3 (ipykernel)",
   "language": "python",
   "name": "python3"
  },
  "language_info": {
   "codemirror_mode": {
    "name": "ipython",
    "version": 3
   },
   "file_extension": ".py",
   "mimetype": "text/x-python",
   "name": "python",
   "nbconvert_exporter": "python",
   "pygments_lexer": "ipython3",
   "version": "3.11.5"
  }
 },
 "nbformat": 4,
 "nbformat_minor": 5
}
